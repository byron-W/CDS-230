{
 "cells": [
  {
   "cell_type": "markdown",
   "metadata": {},
   "source": [
    "Byron Washington\n",
    "********\n",
    "********"
   ]
  },
  {
   "cell_type": "code",
   "execution_count": 4,
   "metadata": {},
   "outputs": [
    {
     "name": "stdout",
     "output_type": "stream",
     "text": [
      "81\n"
     ]
    }
   ],
   "source": [
    "values = [4, 10, 11, 56]\n",
    "def sum_all(vals):\n",
    "    sum = 0\n",
    "    for i in vals:\n",
    "        sum += i\n",
    "    return sum\n",
    "allsum = sum_all(values)\n",
    "print(str(allsum))"
   ]
  }
 ],
 "metadata": {
  "kernelspec": {
   "display_name": "Python 3",
   "language": "python",
   "name": "python3"
  },
  "language_info": {
   "codemirror_mode": {
    "name": "ipython",
    "version": 3
   },
   "file_extension": ".py",
   "mimetype": "text/x-python",
   "name": "python",
   "nbconvert_exporter": "python",
   "pygments_lexer": "ipython3",
   "version": "3.12.5"
  }
 },
 "nbformat": 4,
 "nbformat_minor": 2
}
