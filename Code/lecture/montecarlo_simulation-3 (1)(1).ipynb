{
 "cells": [
  {
   "cell_type": "code",
   "execution_count": 1,
   "metadata": {},
   "outputs": [],
   "source": [
    "import numpy as np\n",
    "import math\n",
    "import matplotlib.pyplot as plt\n"
   ]
  },
  {
   "cell_type": "markdown",
   "metadata": {},
   "source": [
    "## Monte Carlo Methods \n",
    "\n",
    "#### are a set of computational algorithms that use (repeated) random sampling to estimate unknown parameters.\n",
    "\n",
    "* Very wide ranging\n",
    "* Indispensable in physics, game theory, finance.\n",
    "* Rely on RNG for simulations \n"
   ]
  },
  {
   "cell_type": "markdown",
   "metadata": {},
   "source": [
    "### Monte Carlo simulations with Python"
   ]
  },
  {
   "cell_type": "markdown",
   "metadata": {},
   "source": [
    "_The name “Monte Carlo” - based on the name of a famous casino in Monaco, France -  sounds glamorous in many ways. According to legend, the mathematician Stanislaw Ulam (1909-1984), who was in the process of recovering from an illness, was playing solitaire. Pure combinatorial calculations of the success probability of the solitaire game became too lengthy, so he decided to calculate the probability by playing the game repeatedly. He played the game a hundred times and counted the number of successful plays. Thus was born the Monte Carlo method, which  established the idea that an integral, in this case the probability of success, can be viewed as an expected value of a function, and it can be estimated statistically._"
   ]
  },
  {
   "cell_type": "markdown",
   "metadata": {},
   "source": [
    "#### What is a Monte Carlo Simulation?\n",
    "\n",
    "The art of predicting an expected value using the principles of inferential statistics\n",
    "\n",
    "__Inferential statistics__:\n",
    "\n",
    "Make inference about the population based on the sample\n",
    "\n",
    "* _Population_: universe of possible examples\n",
    "* _Sample_: a subset of the population\n",
    "    \n",
    "Key facts:\n",
    "\n",
    "* _population_ is distributed in a particular way, e.g. \"normally distributed\"\n",
    "* _sample_ is _random_ and exhibits same properties as population\n"
   ]
  },
  {
   "cell_type": "markdown",
   "metadata": {},
   "source": [
    "\n",
    "__In terms of simulation concepts, a Monte Carlo simulation can be viewed as a process that generates a large number of random scenarios that produce a distribution of outcomes and, in the end, the likelihood of the results shows which outcome is the most likely.__\n",
    "\n",
    "\n",
    "__Properties__\n",
    "\n",
    "* Draw (independent) samples from a random distribution\n",
    "* Compute some measure at each draw\n",
    "* Repeat many times\n",
    "* Average/aggregate the derived data"
   ]
  },
  {
   "cell_type": "markdown",
   "metadata": {},
   "source": [
    "## Applications\n",
    "\n",
    "#### $\\pi$ estimate\n",
    "\n",
    "Reference:\n",
    "http://www.pythonlikeyoumeanit.com/Module3_IntroducingNumpy/Problems/Approximating_pi.html"
   ]
  },
  {
   "cell_type": "code",
   "execution_count": 2,
   "metadata": {},
   "outputs": [
    {
     "name": "stdout",
     "output_type": "stream",
     "text": [
      "[-0.09054268  0.34626972  0.25514986 -0.17041369  0.67348113  0.39099418]\n",
      "[-0.46732345 -0.47907833 -0.06188103  0.73795746  0.87412341  0.08241605]\n"
     ]
    }
   ],
   "source": [
    "N = 6\n",
    "x = np.random.uniform(-1, 1, N) \n",
    "\n",
    "y = np.random.uniform(-1, 1, N) \n",
    "\n",
    "\n",
    "print(x)\n",
    "print(y)"
   ]
  },
  {
   "cell_type": "code",
   "execution_count": 3,
   "metadata": {},
   "outputs": [
    {
     "name": "stdout",
     "output_type": "stream",
     "text": [
      "[0.22658918 0.34941876 0.06893071 0.57362204 1.21766857 0.15966885]\n"
     ]
    }
   ],
   "source": [
    "# compute a criterion that makes sense in this context, \n",
    "# such as the distance of points to the origin\n",
    "d = x**2 + y**2\n",
    "print(d)"
   ]
  },
  {
   "cell_type": "code",
   "execution_count": 4,
   "metadata": {},
   "outputs": [
    {
     "data": {
      "text/plain": [
       "array([ True,  True,  True,  True, False,  True])"
      ]
     },
     "execution_count": 4,
     "metadata": {},
     "output_type": "execute_result"
    }
   ],
   "source": [
    "# Then we use Boolean indexing to discriminate between points \n",
    "# within and outside the unit circle:\n",
    "q = (d <= 1) \n",
    "q\n"
   ]
  },
  {
   "cell_type": "code",
   "execution_count": 5,
   "metadata": {},
   "outputs": [
    {
     "name": "stdout",
     "output_type": "stream",
     "text": [
      "darts that land inside: 5\n"
     ]
    }
   ],
   "source": [
    "inside = 0\n",
    "for i in range(q.size):\n",
    "    if q[i]:\n",
    "        inside += 1\n",
    "print(f'darts that land inside: {inside}')"
   ]
  },
  {
   "cell_type": "markdown",
   "metadata": {},
   "source": [
    "We assume the ratio of uniformly distributed points in the circle and in the plane is representative for the area of the unit circle and the square. \n",
    "\n",
    "\n",
    "Then we can statistically assess that $$\\pi = 4*\\frac{A_c}{A_s}$$ from the ratio of points within the circle/square. \n",
    "\n",
    "Thus:"
   ]
  },
  {
   "cell_type": "code",
   "execution_count": 6,
   "metadata": {},
   "outputs": [],
   "source": [
    "pi = 4*q.sum()/q.size"
   ]
  },
  {
   "cell_type": "code",
   "execution_count": 7,
   "metadata": {},
   "outputs": [
    {
     "name": "stdout",
     "output_type": "stream",
     "text": [
      "3.3333333333333335\n"
     ]
    }
   ],
   "source": [
    "print(pi)"
   ]
  },
  {
   "cell_type": "code",
   "execution_count": 8,
   "metadata": {},
   "outputs": [],
   "source": [
    "N = 1000\n",
    "x = np.random.uniform(-1, 1, N) \n",
    "\n",
    "y = np.random.uniform(-1, 1, N) "
   ]
  },
  {
   "cell_type": "code",
   "execution_count": 9,
   "metadata": {},
   "outputs": [],
   "source": [
    "d = x**2 + y**2"
   ]
  },
  {
   "cell_type": "code",
   "execution_count": 10,
   "metadata": {},
   "outputs": [],
   "source": [
    "q = (d <= 1)"
   ]
  },
  {
   "cell_type": "code",
   "execution_count": 11,
   "metadata": {},
   "outputs": [
    {
     "name": "stdout",
     "output_type": "stream",
     "text": [
      "darts that land inside: 799\n"
     ]
    }
   ],
   "source": [
    "inside = 0\n",
    "for i in range(q.size):\n",
    "    if q[i]:\n",
    "        inside += 1\n",
    "print(f'darts that land inside: {inside}')"
   ]
  },
  {
   "cell_type": "code",
   "execution_count": 12,
   "metadata": {},
   "outputs": [],
   "source": [
    "pi = 4*q.sum()/q.size"
   ]
  },
  {
   "cell_type": "code",
   "execution_count": 13,
   "metadata": {},
   "outputs": [
    {
     "name": "stdout",
     "output_type": "stream",
     "text": [
      "3.196\n"
     ]
    }
   ],
   "source": [
    "print(pi)"
   ]
  },
  {
   "cell_type": "code",
   "execution_count": 14,
   "metadata": {},
   "outputs": [
    {
     "data": {
      "image/png": "[encoded data removed]",
      "text/plain": [
       "<Figure size 432x432 with 1 Axes>"
      ]
     },
     "metadata": {
      "needs_background": "light"
     },
     "output_type": "display_data"
    }
   ],
   "source": [
    "fig, ax = plt.subplots(figsize=(6,6))\n",
    "ax.plot(x[q], y[q], '.', color='green', markersize=1, label=r'$d \\leq 1$')\n",
    "ax.plot(x[~q], y[~q], '.', color='red', markersize=1, label=r'$d > 1$')\n",
    "ax.set_aspect('equal')\n",
    "ax.set_title(r'Monte Carlo: $\\pi$ Estimation')\n",
    "ax.set_xlabel('$x$')\n",
    "ax.set_ylabel('$y$')\n",
    "ax.legend(bbox_to_anchor=(1, 1), loc='upper left');"
   ]
  },
  {
   "cell_type": "markdown",
   "metadata": {},
   "source": [
    "Law of large numbers says that the average of a large number of trials, $n$, approaches the expected (i.e. the true) value.\n",
    "\n",
    "$$ <X_n> = \\mu $$\n",
    "\n",
    "i.e. as our random samples accumulate, the sample average as an estimate of the true mean gets better and better. A Similar result applies to the sample varaiance."
   ]
  },
  {
   "cell_type": "markdown",
   "metadata": {},
   "source": [
    "The LLN, magical as it is, does not tell us the rate at which the convergence takes place. How large does your sample need to be in order for your estimates to be close to the truth? "
   ]
  },
  {
   "cell_type": "markdown",
   "metadata": {},
   "source": [
    "The approximation error is\n",
    "    \n",
    "\\begin{equation}\n",
    "Error \\approx \\frac{1}{\\sqrt{N}}\n",
    "\\end{equation}\n",
    "\n",
    "This is saying that taking average of random samples is shrinking the standard deviation at a rate of $\\frac{1}{\\sqrt{N}}$, or equivalently, shrinking the variance at a rate of $\\frac{1}{N}$, and the ditribution of sample average is roughly normal when $n$ is large.\n",
    "\n",
    "Therefore major benefits comes at smaller sample sizes to moderate sample sizes; going from 100 to 200 samples brings more improvements to your estimates than going from 1000 to 1100 samples."
   ]
  },
  {
   "cell_type": "markdown",
   "metadata": {},
   "source": [
    "MC methods are useful for smulating \"higher-dimensional\" systems, with all sorts of random variables, with different probability distributions."
   ]
  },
  {
   "cell_type": "markdown",
   "metadata": {},
   "source": [
    "---"
   ]
  },
  {
   "cell_type": "markdown",
   "metadata": {},
   "source": [
    "So, the approximation above is pretty good."
   ]
  },
  {
   "cell_type": "markdown",
   "metadata": {},
   "source": [
    "## More stochastic models\n"
   ]
  },
  {
   "cell_type": "markdown",
   "metadata": {},
   "source": [
    "#### Simulating the rolling of a die"
   ]
  },
  {
   "cell_type": "code",
   "execution_count": 17,
   "metadata": {},
   "outputs": [],
   "source": [
    "# Using randint()\n",
    "def roll_die():\n",
    "    return np.random.randint(1,7) # generate a number in [1,7) << excludes 7"
   ]
  },
  {
   "cell_type": "markdown",
   "metadata": {},
   "source": [
    "#### Making random choices\n",
    "\n",
    "The random module contains the choice() function for this purpose. This function can be used to choose a random element from a non-empty sequence.\n",
    "This means that we are capable of picking a random character from a string or a random element from a list or a tuple."
   ]
  },
  {
   "cell_type": "code",
   "execution_count": 18,
   "metadata": {},
   "outputs": [],
   "source": [
    "# Using choice()\n",
    "def roll_die_choice():\n",
    "    return np.random.choice(range(1,7)) # choose numbers from [1,7) << excludes 7"
   ]
  },
  {
   "cell_type": "code",
   "execution_count": 19,
   "metadata": {},
   "outputs": [],
   "source": [
    "# Test the process\n",
    "\n",
    "def test_roll(N=10):\n",
    "    for _ in range(N):  # note the _\n",
    "        print(roll_die(), end=\" \") "
   ]
  },
  {
   "cell_type": "code",
   "execution_count": null,
   "metadata": {},
   "outputs": [],
   "source": []
  },
  {
   "cell_type": "markdown",
   "metadata": {},
   "source": [
    "At any stage you will not be able to predict what the next number will be - so the next number is a random variable."
   ]
  },
  {
   "cell_type": "markdown",
   "metadata": {},
   "source": [
    "\n",
    "\n",
    "#### Example\n",
    "\n",
    "Using the die , carry out a sequence of 30 rolls with a view to obtaining either a three or a six. Each time that a three-spot face or a six-spot face occurs record a 1, to represent success. Each time that some other face of the die occurs record a 0, to represent failure. In this way you will generate a sequence of 1s and 0s.\n",
    "\n",
    "By adding the 1s and 0s as you go along you can calculate the total number of successes after each roll. At each roll you can also calculate the proportion of rolls so far that have produced a three- or six-spot face. Letting P denote this proportion, plot a graph of P, on the vertical axis, against the number of rolls, on the horizontal axis. "
   ]
  },
  {
   "cell_type": "code",
   "execution_count": 20,
   "metadata": {},
   "outputs": [
    {
     "data": {
      "image/png": "[encoded data removed]",
      "text/plain": [
       "<Figure size 864x360 with 1 Axes>"
      ]
     },
     "metadata": {
      "needs_background": "light"
     },
     "output_type": "display_data"
    }
   ],
   "source": [
    "N = 500\n",
    "running_total = np.zeros(N+1)\n",
    "tot = 0\n",
    "for i in range(1, N+1):\n",
    "    if  roll_die() == 3 or roll_die() == 6:\n",
    "        tot += 1\n",
    "    running_total[i] = tot/i\n",
    "fig, ax = plt.subplots(figsize=(12,5))\n",
    "ax.plot(running_total[1:], '-')\n",
    "ax.set_xlim([0,N+1])\n",
    "ax.set_ylabel('P')\n",
    "ax.grid()"
   ]
  },
  {
   "cell_type": "markdown",
   "metadata": {},
   "source": [
    "#### Example: rolling a die\n",
    "\n",
    "Suppose you roll a die several times. What is the probablity that you get 11111 (five ones) in a row? Note that this is a pretty rare event!"
   ]
  },
  {
   "cell_type": "markdown",
   "metadata": {},
   "source": [
    "The probability of rolling a $1$ is:\n",
    "\n",
    "P(1) = $(\\frac{1}{6})$\n",
    "\n",
    "If you roll 5 times, all events are independent, then:\n",
    "\n",
    "P(11111) = $(\\frac{1}{6})^5$"
   ]
  },
  {
   "cell_type": "markdown",
   "metadata": {},
   "source": [
    "#### Simulation"
   ]
  },
  {
   "cell_type": "code",
   "execution_count": 21,
   "metadata": {},
   "outputs": [],
   "source": [
    "np.random.seed(123) # This makes python repeat the same numbers every time we run the program.\n",
    "                    # You can choose any number to go inside the brackets of \"seed\".\n",
    "\n",
    "def simulate_die(sequence, num_trials):\n",
    "    \"\"\"\n",
    "    Simulate rolling a single die by counting.\n",
    "    \n",
    "    Input, a desired \"sequence\" and number of trials\n",
    "    Output, estimated probability the sequence was generated\n",
    "            by rolling the die.\n",
    "    \"\"\"\n",
    "    num_succ= 0\n",
    "    for i in range(num_trials): # loop over num trials\n",
    "        result = ''\n",
    "        for j in range(len(sequence)): # roll as many times as necessary \n",
    "            result += str(roll_die())\n",
    "\n",
    "        if result == sequence:\n",
    "            num_succ += 1\n",
    "        est_prob = num_succ/num_trials\n",
    "        \n",
    "    return round(est_prob, 8)"
   ]
  },
  {
   "cell_type": "code",
   "execution_count": 22,
   "metadata": {},
   "outputs": [],
   "source": [
    "# What is the probablity that you get 11111 (5 ones) in a row?\n",
    "\n",
    "sequence = '11111'"
   ]
  },
  {
   "cell_type": "code",
   "execution_count": 23,
   "metadata": {},
   "outputs": [],
   "source": [
    "trials = 1000"
   ]
  },
  {
   "cell_type": "code",
   "execution_count": 24,
   "metadata": {},
   "outputs": [
    {
     "name": "stdout",
     "output_type": "stream",
     "text": [
      "Estimated probability of getting 11111 =  0.0\n"
     ]
    }
   ],
   "source": [
    "print (f'Estimated probability of getting {sequence} = ', simulate_die(sequence, trials))"
   ]
  },
  {
   "cell_type": "code",
   "execution_count": 25,
   "metadata": {},
   "outputs": [
    {
     "name": "stdout",
     "output_type": "stream",
     "text": [
      "Actual probability of getting 11111 =  0.000129\n"
     ]
    }
   ],
   "source": [
    "print (f'Actual probability of getting {sequence} =  {1/6**len(sequence):.6f}')"
   ]
  },
  {
   "cell_type": "code",
   "execution_count": 26,
   "metadata": {},
   "outputs": [],
   "source": [
    "N = 20\n",
    "\n",
    "# generates numbers in [-1, 1]:\n",
    "dart_positions = 2 * np.random.rand(N, 2) - 1  # 2D array"
   ]
  },
  {
   "cell_type": "code",
   "execution_count": 27,
   "metadata": {},
   "outputs": [
    {
     "data": {
      "text/plain": [
       "array([[ 0.43896402,  0.80065821],\n",
       "       [-0.31103224, -0.55787131],\n",
       "       [-0.85699444,  0.68350941],\n",
       "       [ 0.04564604,  0.43857784],\n",
       "       [-0.87184427,  0.69308385],\n",
       "       [ 0.16539162, -0.76441156],\n",
       "       [-0.003026  ,  0.19421877],\n",
       "       [-0.31848979,  0.42223232],\n",
       "       [ 0.16266734,  0.68082764],\n",
       "       [ 0.72696714, -0.87551525],\n",
       "       [ 0.29296066,  0.44522217],\n",
       "       [-0.71475554,  0.76689686],\n",
       "       [ 0.71294841, -0.72101527],\n",
       "       [ 0.76656497,  0.29328539],\n",
       "       [ 0.57356665,  0.59710181],\n",
       "       [-0.67633593, -0.87465523],\n",
       "       [ 0.27397601, -0.32550233],\n",
       "       [-0.47908174, -0.74026944],\n",
       "       [ 0.71875437,  0.14286431],\n",
       "       [ 0.67341982,  0.11350194]])"
      ]
     },
     "execution_count": 27,
     "metadata": {},
     "output_type": "execute_result"
    }
   ],
   "source": [
    "dart_positions\n"
   ]
  },
  {
   "cell_type": "code",
   "execution_count": 28,
   "metadata": {},
   "outputs": [],
   "source": [
    "# start the count with 0 - make loop logic below easier\n",
    "Ncircle = [0] "
   ]
  },
  {
   "cell_type": "code",
   "execution_count": 29,
   "metadata": {},
   "outputs": [
    {
     "name": "stdout",
     "output_type": "stream",
     "text": [
      "21\n"
     ]
    },
    {
     "data": {
      "text/plain": [
       "[0, 1, 2, 2, 3, 3, 4, 5, 6, 7, 7, 8, 8, 8, 9, 10, 10, 11, 12, 13, 14]"
      ]
     },
     "execution_count": 29,
     "metadata": {},
     "output_type": "execute_result"
    }
   ],
   "source": [
    "for x, y in dart_positions:\n",
    "    if np.sqrt(x**2 + y**2) < 1:\n",
    "        # another dart has fallen in the circle\n",
    "        Ncircle.append(Ncircle[-1] + 1) \n",
    "    else:\n",
    "        # the dart fell outside of the circle - Ncircle is unchanged\n",
    "        Ncircle.append(Ncircle[-1])  \n",
    "print(len(Ncircle))\n",
    "Ncircle"
   ]
  },
  {
   "cell_type": "code",
   "execution_count": 30,
   "metadata": {},
   "outputs": [
    {
     "name": "stdout",
     "output_type": "stream",
     "text": [
      "0, 1, 4.0000\n",
      "1, 2, 4.0000\n",
      "2, 2, 2.6667\n",
      "3, 3, 3.0000\n",
      "4, 3, 2.4000\n",
      "5, 4, 2.6667\n",
      "6, 5, 2.8571\n",
      "7, 6, 3.0000\n",
      "8, 7, 3.1111\n",
      "9, 7, 2.8000\n",
      "10, 8, 2.9091\n",
      "11, 8, 2.6667\n",
      "12, 8, 2.4615\n",
      "13, 9, 2.5714\n",
      "14, 10, 2.6667\n",
      "15, 10, 2.5000\n",
      "16, 11, 2.5882\n",
      "17, 12, 2.6667\n",
      "18, 13, 2.7368\n",
      "19, 14, 2.8000\n",
      "2.8\n"
     ]
    }
   ],
   "source": [
    "running_estimate = []\n",
    "# skip the inital 0-count\n",
    "for index, n_circle in enumerate(Ncircle[1:]): \n",
    "    # index starts at 0, so we need to add 1\n",
    "    running_estimate.append(4 * n_circle / (index + 1))\n",
    "    if index < 20:\n",
    "        print(f\"{index}, {n_circle}, {running_estimate[index]:.4f}\")\n",
    "\n",
    "num_thrown = np.arange(1, N+1) # 1, 2, ..., N\n",
    "print(running_estimate[-1])"
   ]
  },
  {
   "cell_type": "code",
   "execution_count": 31,
   "metadata": {},
   "outputs": [
    {
     "data": {
      "image/png": "[encoded data removed]",
      "text/plain": [
       "<Figure size 432x288 with 1 Axes>"
      ]
     },
     "metadata": {
      "needs_background": "light"
     },
     "output_type": "display_data"
    }
   ],
   "source": [
    "fig, ax = plt.subplots()\n",
    "\n",
    "ax.plot(num_thrown, running_estimate);\n",
    "# horizontal line at true value of pi\n",
    "ax.hlines(y=np.pi, xmin=1, xmax=N+1, linestyles=\"--\")  \n",
    "ax.set_xscale(\"log\")\n",
    "\n",
    "ax.set_ylabel(r\"Estimated value of $\\pi$\")\n",
    "ax.set_xlabel(\"Number of randomly-thrown darts (log-scale)\")\n",
    "ax.set_title(\"Law of large numbers\")\n",
    "ax.grid()"
   ]
  }
 ],
 "metadata": {
  "kernelspec": {
   "display_name": "Python 3 (ipykernel)",
   "language": "python",
   "name": "python3"
  },
  "language_info": {
   "codemirror_mode": {
    "name": "ipython",
    "version": 3
   },
   "file_extension": ".py",
   "mimetype": "text/x-python",
   "name": "python",
   "nbconvert_exporter": "python",
   "pygments_lexer": "ipython3",
   "version": "3.9.12"
  }
 },
 "nbformat": 4,
 "nbformat_minor": 4
}
