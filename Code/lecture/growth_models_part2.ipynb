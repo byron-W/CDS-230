{
 "cells": [
  {
   "cell_type": "code",
   "execution_count": 3,
   "metadata": {
    "slideshow": {
     "slide_type": "skip"
    },
    "tags": []
   },
   "outputs": [],
   "source": [
    "import numpy as np\n",
    "import matplotlib.pyplot as plt\n",
    "%matplotlib inline"
   ]
  },
  {
   "cell_type": "markdown",
   "metadata": {
    "slideshow": {
     "slide_type": "slide"
    }
   },
   "source": [
    "# Simple models (part 2)\n"
   ]
  },
  {
   "cell_type": "markdown",
   "metadata": {
    "slideshow": {
     "slide_type": "slide"
    }
   },
   "source": [
    "The linear growth model predicts unlimited growth as n gets larger if d is positive.\n",
    "\n",
    "\\begin{equation}\n",
    "P_{n} = P_o + nd\n",
    "\\end{equation}\n",
    "\n",
    "The exponential growth model predicts unlimited growth as n gets larger if r is larger than 1.\n",
    "\n",
    "\\begin{equation}\n",
    "P_{n} = r^n P_o\n",
    "\\end{equation}\n",
    "\n"
   ]
  },
  {
   "cell_type": "code",
   "execution_count": 4,
   "metadata": {
    "slideshow": {
     "slide_type": "slide"
    },
    "tags": []
   },
   "outputs": [],
   "source": [
    "# Analytical models\n",
    "\n",
    "x = np.linspace(0, 10, 100)   # independent variable\n",
    "\n",
    "y = x      # linear model\n",
    "y2 = x**2  # quadratic model\n",
    "y3 = x**3  # cubic model\n",
    "y2x = 2**x  # exponential model (base 2)\n",
    "yexp = np.exp(x)  # exponential model (base e)"
   ]
  },
  {
   "cell_type": "code",
   "execution_count": 5,
   "metadata": {
    "tags": []
   },
   "outputs": [
    {
     "data": {
      "image/png": "[encoded data removed]",
      "text/plain": [
       "<Figure size 432x432 with 1 Axes>"
      ]
     },
     "metadata": {
      "needs_background": "light"
     },
     "output_type": "display_data"
    }
   ],
   "source": [
    "fig, ax = plt.subplots(figsize=(6,6))\n",
    "ax.plot(x,y,    'r', label='linear')\n",
    "ax.plot(x,y2,   'g', label='quadratic')\n",
    "ax.plot(x,y3,   'b', label='cubic')\n",
    "ax.plot(x,y2x,  'm',label='exponential (base 2)')\n",
    "ax.plot(x,yexp, 'k', label='exponential (base e)')\n",
    "ax.legend()\n",
    "ax.grid()"
   ]
  },
  {
   "cell_type": "markdown",
   "metadata": {
    "slideshow": {
     "slide_type": "slide"
    }
   },
   "source": [
    "Consider a population that grows according to the linear growth model:\n",
    "    \n",
    "\\begin{equation}\n",
    "P_{n+1} =  P_{n} + \\Delta P\n",
    "\\end{equation}\n",
    "\n",
    "where $\\Delta P$ is the change in $P$ from one time step to another: \n",
    "\n",
    "\\begin{equation}\n",
    "P_{n+1} - P_{n} = \\Delta P\n",
    "\\end{equation}\n",
    "\n",
    "Define $\\Delta t$ to be the time step, then one can define the *rate of change* of $P$ with respect to time:\n",
    "\n",
    "\\begin{equation}\n",
    "\\frac{\\Delta P}{\\Delta t} = r\n",
    "\\end{equation}\n",
    "\n",
    "where $r$ is a constant growth rate"
   ]
  },
  {
   "cell_type": "markdown",
   "metadata": {
    "slideshow": {
     "slide_type": "slide"
    }
   },
   "source": [
    "This model is discrete, which means it is only defined at integer values of $t$ and not in between. \n",
    "\n",
    "Sometimes a **continuous model** is more realistic, where the time intervals are _very_ small. This amounts to making $\\Delta t$ become infinitesimally small, i.e. $\\lim_{\\Delta t\\rightarrow 0}$:\n",
    "\n",
    "\\begin{equation}\n",
    "\\frac{dP}{dt} = r\n",
    "\\end{equation}\n",
    "\n",
    "This is an example of a **differential equation**. \n",
    "\n",
    "This equation says that the rate of change is constant, i.e. the slope is constant and therefore the model is linear.\n"
   ]
  },
  {
   "cell_type": "markdown",
   "metadata": {
    "slideshow": {
     "slide_type": "slide"
    }
   },
   "source": [
    "## Interest rates\n",
    "\n",
    "Consider the following situation: given an initial amount $P_0$ of money, how much will it grow after $t$ years in a bank with annual interest rate $r$.  The answer is\n",
    "\n",
    "\\begin{equation}\n",
    "P_t = P_0(1+r)^t\n",
    "\\end{equation}\n",
    "\n"
   ]
  },
  {
   "cell_type": "markdown",
   "metadata": {
    "slideshow": {
     "slide_type": "fragment"
    }
   },
   "source": [
    "If interest rate is compunded n times per year, then\n",
    "\n",
    "\\begin{equation}\n",
    "P_t = P_{0}(1+\\frac{r}{n})^{nt}\n",
    "\\end{equation}"
   ]
  },
  {
   "cell_type": "markdown",
   "metadata": {
    "slideshow": {
     "slide_type": "slide"
    }
   },
   "source": [
    "If we do continuous compunding then that is equivalent to letting $n \\rightarrow \\infty$\n",
    "\n",
    "\\begin{equation}\n",
    "\\lim_{n\\to\\infty} (1+\\frac{1}{n})^n \\to e\n",
    "\\end{equation}\n",
    "\n",
    "So,\n",
    "\n",
    "\\begin{equation}\n",
    "P_t = P_0e^{rt}\n",
    "\\end{equation}\n"
   ]
  },
  {
   "cell_type": "markdown",
   "metadata": {
    "slideshow": {
     "slide_type": "slide"
    }
   },
   "source": [
    "It is much easier to compute with interest rates in terms of a difference equation and then solve this equation on a computer.\n",
    "\n",
    "The fundamental model for interest rates is that an amount $x_{n−1}$ at some point of time $t_{n−1}$ increases its value with growth rate $r$ to an amount $x_n$ at a new point of time $t_n$:\n",
    "\n",
    "\n",
    "\\begin{equation}\n",
    "x_n = x_{n-1} +rx_{n-1}\n",
    "\\end{equation}\n",
    "\n",
    "If you want to use percentage\n",
    "\n",
    "\\begin{equation}\n",
    "x_n = x_{n-1} +\\frac{p}{100}x_{n-1}\n",
    "\\end{equation}\n",
    "\n",
    "where $p$ is given as a percent value."
   ]
  },
  {
   "cell_type": "code",
   "execution_count": 6,
   "metadata": {
    "slideshow": {
     "slide_type": "slide"
    },
    "tags": []
   },
   "outputs": [],
   "source": [
    "x0 = 100                      # initial amount\n",
    "p = 5                         # interest rate in %\n",
    "N = 20                        # number of years\n",
    "tn = np.arange(N)\n",
    "x = np.zeros(N)"
   ]
  },
  {
   "cell_type": "code",
   "execution_count": 7,
   "metadata": {},
   "outputs": [
    {
     "data": {
      "text/plain": [
       "array([ 0,  1,  2,  3,  4,  5,  6,  7,  8,  9, 10, 11, 12, 13, 14, 15, 16,\n",
       "       17, 18, 19])"
      ]
     },
     "execution_count": 7,
     "metadata": {},
     "output_type": "execute_result"
    }
   ],
   "source": [
    "tn"
   ]
  },
  {
   "cell_type": "code",
   "execution_count": 8,
   "metadata": {
    "slideshow": {
     "slide_type": "fragment"
    },
    "tags": []
   },
   "outputs": [
    {
     "name": "stdout",
     "output_type": "stream",
     "text": [
      "105.0\n"
     ]
    }
   ],
   "source": [
    "# Compute solution\n",
    "x[0] = x0\n",
    "for n in tn[1:]:\n",
    "    x[n] = x[n-1] + (p/100.0)*x[n-1]  # convert % to fraction\n",
    "    \n",
    "print(x[1])  # after 1 year"
   ]
  },
  {
   "cell_type": "code",
   "execution_count": 9,
   "metadata": {
    "tags": []
   },
   "outputs": [
    {
     "data": {
      "image/png": "[encoded data removed]",
      "text/plain": [
       "<Figure size 432x288 with 1 Axes>"
      ]
     },
     "metadata": {
      "needs_background": "light"
     },
     "output_type": "display_data"
    }
   ],
   "source": [
    "fig, ax = plt.subplots()\n",
    "ax.plot(tn, x, '+')\n",
    "ax.set_ylabel('amount')\n",
    "ax.set_xlabel('time')\n",
    "ax.grid()\n",
    "#plt.savefig('discrete.png')"
   ]
  },
  {
   "cell_type": "code",
   "execution_count": 6,
   "metadata": {
    "slideshow": {
     "slide_type": "slide"
    },
    "tags": []
   },
   "outputs": [],
   "source": [
    "x0 = 100                      # initial amount\n",
    "p = 5                         # interest rate\n",
    "r = p/365.0                   # daily interest rate"
   ]
  },
  {
   "cell_type": "code",
   "execution_count": 7,
   "metadata": {
    "slideshow": {
     "slide_type": "fragment"
    },
    "tags": []
   },
   "outputs": [
    {
     "name": "stdout",
     "output_type": "stream",
     "text": [
      "N days:  7305\n"
     ]
    }
   ],
   "source": [
    "# Calculate number of days in 20 years\n",
    "# Let's use datetime\n",
    "\n",
    "import datetime\n",
    "date1 = datetime.date(2020, 1, 1)\n",
    "date2 = datetime.date(2040, 1, 1)\n",
    "diff = date2 - date1\n",
    "N = diff.days                 # Number of days\n",
    "print('N days: ',N)\n",
    "\n",
    "tn = np.arange(N)\n",
    "x = np.zeros(N)"
   ]
  },
  {
   "cell_type": "code",
   "execution_count": 8,
   "metadata": {
    "slideshow": {
     "slide_type": "slide"
    },
    "tags": []
   },
   "outputs": [
    {
     "name": "stdout",
     "output_type": "stream",
     "text": [
      "105.11235069459615\n"
     ]
    }
   ],
   "source": [
    "# Compute solution\n",
    "x[0] = x0\n",
    "for n in tn[1:]:\n",
    "    x[n] = x[n-1] + (r/100.0)*x[n-1]\n",
    "    \n",
    "print(x[364])  # after 1 year"
   ]
  },
  {
   "cell_type": "code",
   "execution_count": 9,
   "metadata": {
    "tags": []
   },
   "outputs": [
    {
     "data": {
      "image/png": "[encoded data removed]",
      "text/plain": [
       "<Figure size 432x288 with 1 Axes>"
      ]
     },
     "metadata": {
      "needs_background": "light"
     },
     "output_type": "display_data"
    }
   ],
   "source": [
    "fig, ax = plt.subplots()\n",
    "ax.plot(tn, x, 'r')\n",
    "ax.grid()"
   ]
  },
  {
   "cell_type": "markdown",
   "metadata": {},
   "source": [
    "#### Difference equation for population growth (again)"
   ]
  },
  {
   "cell_type": "markdown",
   "metadata": {},
   "source": [
    "Let $x_{n−1}$ be the number of individuals in a population at time $t_{n−1}$. The population can consists of humans, animals, cells, or whatever objects where the number of births and deaths is proportional to the number of individuals.\n",
    "\n",
    "Between time levels $t_{n−1}$ and $t_{n}$, $bx_{n−1}$ individuals are born, and $dx_{n−1}$ individuals die, where $b$ and $d$ are constants. The net growth of the population is then $(b − d)x_n$. \n",
    "\n",
    "Introducing $r' = (b − d)100$ for the net growth factor (measured in percent), the new number of individuals become\n",
    "\n",
    "\n",
    "\\begin{equation}\n",
    "x_n = x_{n-1} +\\frac{r'}{100}x_{n-1}\n",
    "\\end{equation}\n",
    "\n",
    "This is the same difference equation (or recurrence relation) as the compound interest equation. It models growth of populations quite well as long as there are optimal growing conditions for each individual.\n",
    "\n",
    "To solve the equation above we need to start out with a known size $x_0$ of the population and $r$ parameter. Recall that the equation above can also be written as follows (functional form):\n",
    "\n",
    "\\begin{equation}\n",
    "x_{n} = x_0 (1+r')^n \n",
    "\\end{equation}\n",
    "\n"
   ]
  },
  {
   "cell_type": "code",
   "execution_count": 24,
   "metadata": {
    "tags": []
   },
   "outputs": [],
   "source": [
    "# Example: Rabbits\n",
    "\n",
    "N0 = 10\n",
    "r = 0.3\n",
    "tot_t = 21\n",
    "t = np.arange(tot_t)  # time array\n",
    "\n",
    "N = np.zeros(tot_t)   # population\n",
    "Nf = np.zeros(tot_t)  # functional\n",
    "\n",
    "# Initial conditions\n",
    "N[0] = N0\n",
    "Nf[0] = N0"
   ]
  },
  {
   "cell_type": "code",
   "execution_count": 20,
   "metadata": {
    "tags": []
   },
   "outputs": [
    {
     "name": "stdout",
     "output_type": "stream",
     "text": [
      "10.00, 10.00\n",
      "13.00, 13.00\n",
      "16.90, 16.90\n",
      "21.97, 21.97\n",
      "28.56, 28.56\n",
      "37.13, 37.13\n",
      "48.27, 48.27\n",
      "62.75, 62.75\n",
      "81.57, 81.57\n",
      "106.04, 106.04\n",
      "137.86, 137.86\n",
      "179.22, 179.22\n",
      "232.98, 232.98\n",
      "302.88, 302.88\n",
      "393.74, 393.74\n",
      "511.86, 511.86\n",
      "665.42, 665.42\n",
      "865.04, 865.04\n",
      "1124.55, 1124.55\n",
      "1461.92, 1461.92\n",
      "1900.50, 1900.50\n"
     ]
    }
   ],
   "source": [
    "# Compare two formulations:\n",
    "\n",
    "# Recurrence\n",
    "for i in range(1, tot_t):\n",
    "    N[i] = N[i-1] + r*N[i-1]\n",
    "\n",
    "# Functional\n",
    "for i in range(1, tot_t):\n",
    "    Nf[i] = N0 * (1 + r)**i\n",
    "    \n",
    "for i in range(tot_t):\n",
    "    print(f'{N[i]:.2f}, {Nf[i]:.2f}')"
   ]
  },
  {
   "cell_type": "markdown",
   "metadata": {},
   "source": [
    "Now, suppose we have a population , $N$, that varies in time. So, it is a function of $t$. Call it $N(t)$. If we observe geometric growth, then the rate of change of $N$ with respect to time can be written as\n",
    "\n",
    "\\begin{equation}\n",
    "\\frac{dN}{dt} = rN\n",
    "\\end{equation}\n",
    "\n",
    "This equation says that the rate of change of the population is **proportional** to the population. It makes sense, right?\n",
    "\n",
    "Solution of this **differential equation** is:\n",
    "\n",
    "\\begin{equation}\n",
    "N(t)= N_0 e^{rt}\n",
    "\\end{equation}\n",
    "\n",
    "where $N_0$ is the population when $t=0$, i.e. $N(0)=N_0$."
   ]
  },
  {
   "cell_type": "markdown",
   "metadata": {},
   "source": [
    "---\n",
    "\n",
    "**Example:**\n",
    "\n",
    "Given a differential equation\n",
    "\n",
    "\\begin{equation}\n",
    "\\frac{dN(t)}{dt} = 0.4 N(t)\n",
    "\\end{equation}\n",
    "\n",
    "with initial condition $N_0 = 100$, its solution is\n",
    "\n",
    "\n",
    "\\begin{equation}\n",
    "N(t) = 100e^{0.4t}\n",
    "\\end{equation}\n"
   ]
  },
  {
   "cell_type": "code",
   "execution_count": 25,
   "metadata": {
    "tags": []
   },
   "outputs": [
    {
     "data": {
      "image/png": "[encoded data removed]",
      "text/plain": [
       "<Figure size 432x288 with 1 Axes>"
      ]
     },
     "metadata": {
      "needs_background": "light"
     },
     "output_type": "display_data"
    }
   ],
   "source": [
    "# Visualization\n",
    "\n",
    "N0 = 100\n",
    "r = 0.4\n",
    "\n",
    "t = np.linspace(0, 10, 100)  # a vector of time values\n",
    "\n",
    "Nexp = N0*np.exp(r*t)  # solution is also a vector\n",
    "\n",
    "fig, ax = plt.subplots()\n",
    "ax.plot(t, Nexp)\n",
    "ax.plot([0],[N0],'ro')  # plot initial condition\n",
    "ax.set_xlim(0, 10)\n",
    "ax.grid()"
   ]
  },
  {
   "cell_type": "markdown",
   "metadata": {},
   "source": [
    "### Using Scipy"
   ]
  },
  {
   "cell_type": "code",
   "execution_count": 9,
   "metadata": {},
   "outputs": [],
   "source": [
    "import scipy.integrate as sci"
   ]
  },
  {
   "cell_type": "code",
   "execution_count": 12,
   "metadata": {
    "tags": []
   },
   "outputs": [],
   "source": [
    "def dy_dt(y, t):\n",
    "    \"\"\"Define ODE dy/dt = 0.4y\"\"\"\n",
    "    return 0.4*y"
   ]
  },
  {
   "cell_type": "code",
   "execution_count": 13,
   "metadata": {
    "tags": []
   },
   "outputs": [],
   "source": [
    "y0 = 100                      # initial condition\n",
    "t = np.linspace(0, 10, 100)   # t >= 0 "
   ]
  },
  {
   "cell_type": "code",
   "execution_count": 12,
   "metadata": {
    "tags": []
   },
   "outputs": [],
   "source": [
    "y = sci.odeint(dy_dt, y0, t)   # using ODEINT to integrate ODE"
   ]
  },
  {
   "cell_type": "code",
   "execution_count": 14,
   "metadata": {
    "tags": []
   },
   "outputs": [],
   "source": [
    "y_a = 100*np.exp(0.4*t)      # exact solution"
   ]
  },
  {
   "cell_type": "code",
   "execution_count": 27,
   "metadata": {
    "tags": []
   },
   "outputs": [
    {
     "data": {
      "image/png": "[encoded data removed]",
      "text/plain": [
       "<Figure size 432x288 with 1 Axes>"
      ]
     },
     "metadata": {
      "needs_background": "light"
     },
     "output_type": "display_data"
    }
   ],
   "source": [
    "fig, ax = plt.subplots()\n",
    "ax.plot(t, y, '+', t, y_a)\n",
    "ax.set_ylabel('y')\n",
    "ax.set_xlabel('time')\n",
    "ax.grid()"
   ]
  },
  {
   "cell_type": "markdown",
   "metadata": {},
   "source": [
    "---\n",
    "\n",
    "**Example:**\n",
    "\n",
    "Given a differential equation\n",
    "\n",
    "\\begin{equation}\n",
    "\\frac{dy(t)}{dt} + y(t) = t\n",
    "\\end{equation}\n",
    "\n",
    "with initial condition $y_0 = 2.0$, its solution is\n",
    "\n",
    "\n",
    "\\begin{equation}\n",
    "y(t) = 3e^{-t} + t -1\n",
    "\\end{equation}\n"
   ]
  },
  {
   "cell_type": "code",
   "execution_count": 13,
   "metadata": {
    "tags": []
   },
   "outputs": [],
   "source": [
    "def dy_dt(y, t):\n",
    "    \"\"\"Define ODE dy/dt = t - y\"\"\"\n",
    "    return t - y"
   ]
  },
  {
   "cell_type": "code",
   "execution_count": 14,
   "metadata": {
    "tags": []
   },
   "outputs": [],
   "source": [
    "y0 = 2.0                   # initial condition\n",
    "t = np.arange(0, 5, 0.1)   # t >= 0 "
   ]
  },
  {
   "cell_type": "code",
   "execution_count": 15,
   "metadata": {
    "tags": []
   },
   "outputs": [],
   "source": [
    "import scipy.integrate as sci\n",
    "y = sci.odeint(dy_dt, y0, t)   # using ODEINT to integrate ODE"
   ]
  },
  {
   "cell_type": "code",
   "execution_count": 16,
   "metadata": {
    "tags": []
   },
   "outputs": [],
   "source": [
    "y_a = 3*np.exp(-t) + t - 1    # exact solution with y0 = 2"
   ]
  },
  {
   "cell_type": "code",
   "execution_count": 17,
   "metadata": {
    "tags": []
   },
   "outputs": [
    {
     "data": {
      "image/png": "[encoded data removed]",
      "text/plain": [
       "<Figure size 432x288 with 1 Axes>"
      ]
     },
     "metadata": {
      "needs_background": "light"
     },
     "output_type": "display_data"
    }
   ],
   "source": [
    "fig, ax = plt.subplots()\n",
    "ax.plot(t, y, '+', t, y_a)\n",
    "ax.set_ylabel('y')\n",
    "ax.set_xlabel('time')\n",
    "ax.grid()"
   ]
  },
  {
   "cell_type": "markdown",
   "metadata": {
    "slideshow": {
     "slide_type": "slide"
    }
   },
   "source": [
    "## Population growth (again)"
   ]
  },
  {
   "cell_type": "markdown",
   "metadata": {
    "slideshow": {
     "slide_type": "skip"
    }
   },
   "source": [
    "---"
   ]
  },
  {
   "cell_type": "markdown",
   "metadata": {
    "slideshow": {
     "slide_type": "slide"
    }
   },
   "source": [
    "__Thomas Malthus: British cleric, writer and scholar__\n",
    "\n",
    "*An Essay on the Principle of Population* (1798)\n",
    "\n"
   ]
  },
  {
   "cell_type": "markdown",
   "metadata": {
    "slideshow": {
     "slide_type": "subslide"
    }
   },
   "source": [
    "Argued that \n",
    "\n",
    "* populations tend to increase more rapidly than food supply (geometric vs arithmetic growth respectively)\n",
    "* need **checks** to hold population within resource limits\n",
    "    * positive checks: famine, war, epidemics\n",
    "    * preventive checks: birth control, celibacy"
   ]
  },
  {
   "cell_type": "markdown",
   "metadata": {
    "slideshow": {
     "slide_type": "fragment"
    }
   },
   "source": [
    "---"
   ]
  },
  {
   "cell_type": "markdown",
   "metadata": {
    "slideshow": {
     "slide_type": "fragment"
    }
   },
   "source": [
    "Malthus: environment cannot support an *infinite* population. There are limits!"
   ]
  },
  {
   "cell_type": "markdown",
   "metadata": {
    "slideshow": {
     "slide_type": "slide"
    }
   },
   "source": [
    "__Pierre Verhulst: Belgian mathematician__\n",
    "\n",
    "*Logistic model* ca. 1838\n",
    "\n",
    "This has many applications - not just population growth!"
   ]
  },
  {
   "cell_type": "markdown",
   "metadata": {
    "slideshow": {
     "slide_type": "slide"
    }
   },
   "source": [
    "Modify\n",
    "\n",
    "\\begin{equation}\n",
    "\\frac{dN}{dt} = \\lambda N \n",
    "\\end{equation}\n",
    "\n",
    "When $N << K$ (no constraints!), then $K=1$.\n",
    "\n",
    "When $N \\approx K$ (limits!), then rate of change should be close to zero.\n",
    "\n",
    "\\begin{equation}\n",
    "\\frac{dN}{dt} = \\lambda N(1-\\frac{N}{K})\n",
    "\\end{equation}\n"
   ]
  },
  {
   "cell_type": "markdown",
   "metadata": {
    "slideshow": {
     "slide_type": "skip"
    }
   },
   "source": [
    "Let us examine this solution in more detail to understand its behavior. \n",
    "\n",
    "For small population levels, when $N$ is much smaller than $K$, $N$ exhibits exponential like growth, as dictated by the $\\lambda$ parameter, which is the growth rate. This is because the $(1−\\frac{N}{K})$ term is still relatively close to $1$. However, as $N$ becomes larger, this last term starts to matter because it approaches zero. As $N(t)$ attains this point, the growth given by $dN/dt$ dies out and the population levels top off asymptotically at $K$. \n",
    "\n",
    "This asymptotical level $K$ is known as the saturation point or the **carrying capacity** of the population."
   ]
  },
  {
   "cell_type": "markdown",
   "metadata": {},
   "source": [
    "Solution of the logistic model describes how a population evolves over time. The solution is called the *logistic function*:\n",
    "\n",
    "\\begin{equation}\n",
    "N(t) = \\frac{K}{1+(\\frac{K-N_0}{N_0})e^{-\\lambda t}}\n",
    "\\end{equation}"
   ]
  },
  {
   "cell_type": "code",
   "execution_count": 15,
   "metadata": {
    "slideshow": {
     "slide_type": "slide"
    },
    "tags": []
   },
   "outputs": [],
   "source": [
    "# Initializing\n",
    "\n",
    "N0 = 100\n",
    "lam = 0.9\n",
    "K = 1000\n",
    "t = np.linspace(0, 10, 100)  # time\n",
    "\n",
    "# logistic function is the solution to the logistic model (the ODE)\n",
    "Nlog = K / (1 + ((K - N0) / N0)*np.exp( -lam*t ))  "
   ]
  },
  {
   "cell_type": "code",
   "execution_count": 34,
   "metadata": {
    "tags": []
   },
   "outputs": [
    {
     "data": {
      "image/png": "[encoded data removed]",
      "text/plain": [
       "<Figure size 432x288 with 1 Axes>"
      ]
     },
     "metadata": {
      "needs_background": "light"
     },
     "output_type": "display_data"
    }
   ],
   "source": [
    "fig, ax = plt.subplots()\n",
    "\n",
    "ax.plot(t, Nlog, 'b', t, Nexp, 'g')  # Nexp from earlier\n",
    "\n",
    "ax.set_ylim(ymin=N0, ymax=1500)\n",
    "ax.set_xlim(xmin=0, xmax=10)\n",
    "ax.hlines(y=K, xmin=0, xmax=10, color='r')\n",
    "ax.set_ylabel('population')\n",
    "ax.set_xlabel('time')\n",
    "ax.grid()\n",
    "\n",
    "plt.text(0.15, K+25,'limit = K');   \n",
    "# K is also called an equilibrium solution to logistic DE"
   ]
  },
  {
   "cell_type": "markdown",
   "metadata": {},
   "source": [
    "### Difference equation"
   ]
  },
  {
   "cell_type": "markdown",
   "metadata": {},
   "source": [
    "The difference equation for the logistic model is:\n",
    "\n",
    "\\begin{equation}\n",
    "x_{n} = x_{n-1} + r x_{n-1}(1-\\frac{x_{n-1}}{K})\n",
    "\\end{equation}\n"
   ]
  },
  {
   "cell_type": "code",
   "execution_count": 17,
   "metadata": {
    "slideshow": {
     "slide_type": "fragment"
    }
   },
   "outputs": [],
   "source": [
    "r = .9 # growth rate / yr\n",
    "K = 1000 # carrying capacity\n",
    "t = 10 # number of years\n",
    "x = np.zeros(t+1)\n",
    "x[0] = 100"
   ]
  },
  {
   "cell_type": "code",
   "execution_count": 18,
   "metadata": {
    "slideshow": {
     "slide_type": "slide"
    }
   },
   "outputs": [
    {
     "data": {
      "image/png": "[encoded data removed]",
      "text/plain": [
       "<Figure size 432x288 with 1 Axes>"
      ]
     },
     "metadata": {
      "needs_background": "light"
     },
     "output_type": "display_data"
    }
   ],
   "source": [
    "for i in range(t):\n",
    "    x[i+1] = x[i] + r*x[i]*(1 - x[i]/K)\n",
    "\n",
    "plt.plot(range(t+1), x, 'b' )\n",
    "plt.xlabel('Year')\n",
    "plt.ylabel('Number')\n",
    "plt.title('Growth rate: 0.25, Carrying Capacity = 100')\n",
    "plt.axvline(np.argmax(np.diff(x)),  color = 'k')\n",
    "plt.grid()\n",
    "plt.show()"
   ]
  },
  {
   "cell_type": "code",
   "execution_count": null,
   "metadata": {},
   "outputs": [],
   "source": []
  },
  {
   "cell_type": "markdown",
   "metadata": {},
   "source": [
    "### Can we trust models?\n",
    "\n",
    "##### We need to verify and validate models.\n",
    "\n",
    "---\n",
    "\n",
    "**Dictionary definitions**: \n",
    "\n",
    "* Verification: checking that something works\n",
    "\n",
    "* Validation: establishing a valid proof\n",
    "\n",
    "**In the modeling context**:\n",
    "\n",
    "* Verification: (calibration) is adjusting model parameters until they work for your chosen site\n",
    "\n",
    "* Validation: is determining whether the model works for independent data sets (i.e. is predictive)\n"
   ]
  },
  {
   "cell_type": "markdown",
   "metadata": {},
   "source": [
    "---"
   ]
  },
  {
   "cell_type": "markdown",
   "metadata": {},
   "source": [
    "Reference:\n",
    "    \n",
    "https://www.nature.com/scitable/knowledge/library/how-populations-grow-the-exponential-and-logistic-13240157/"
   ]
  }
 ],
 "metadata": {
  "kernelspec": {
   "display_name": "Python 3 (ipykernel)",
   "language": "python",
   "name": "python3"
  },
  "language_info": {
   "codemirror_mode": {
    "name": "ipython",
    "version": 3
   },
   "file_extension": ".py",
   "mimetype": "text/x-python",
   "name": "python",
   "nbconvert_exporter": "python",
   "pygments_lexer": "ipython3",
   "version": "3.9.12"
  }
 },
 "nbformat": 4,
 "nbformat_minor": 4
}
