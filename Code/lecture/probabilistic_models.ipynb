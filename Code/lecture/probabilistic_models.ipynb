{
 "cells": [
  {
   "cell_type": "code",
   "execution_count": null,
   "metadata": {},
   "outputs": [],
   "source": [
    "import numpy as np\n",
    "import matplotlib.pyplot as plt"
   ]
  },
  {
   "cell_type": "markdown",
   "metadata": {},
   "source": [
    "# Probabilistic models"
   ]
  },
  {
   "cell_type": "markdown",
   "metadata": {},
   "source": [
    "We want to understand complex, real-world phenomena and to do so, we create models. \n",
    "\n",
    "Models are useful but they are approximations.\n",
    "\n",
    "More generally we learn about nature from partial - and uncertain - observations. \n",
    "\n",
    "The __uncertainty in the data__ results in uncertainty in the knowledge we get about the phenomenon.\n",
    "\n",
    "A major goal of __probabilistic models__ is to provide a framework to quantify this uncertainty."
   ]
  },
  {
   "cell_type": "markdown",
   "metadata": {},
   "source": [
    "---"
   ]
  },
  {
   "cell_type": "markdown",
   "metadata": {},
   "source": [
    "#### Basic probability"
   ]
  },
  {
   "cell_type": "markdown",
   "metadata": {},
   "source": [
    "Probability is about counting\n",
    "\n",
    "* enumerate all the possibilities N\n",
    "\n",
    "* count the ways an event occurs, call it n\n",
    "\n",
    "* calculate probability = n/N  (_frequentist_ definition)"
   ]
  },
  {
   "cell_type": "markdown",
   "metadata": {},
   "source": [
    "---"
   ]
  },
  {
   "cell_type": "markdown",
   "metadata": {},
   "source": [
    "### Some Basic Facts About Probability \n",
    "\n",
    "Probabilities are always in the range $0$ to $1$. $0$ if impossible, and $1$ if guaranteed.\n",
    "\n",
    "* probability is a fraction: numerator/denominator\n",
    "    \n",
    "* the denominator is all possible events or sample space. The numerator is the subset of that that's of interest or event.\n",
    "    \n",
    "* the sum of the probabilities of all events must equal $1$, i.e. $\\sum_i p_i = 1 $\n",
    "    \n",
    "\n"
   ]
  },
  {
   "cell_type": "markdown",
   "metadata": {},
   "source": [
    "2) If the probability of an event occurring is $p$, the probability of it not occurring must be $1-p$\n",
    "\n"
   ]
  },
  {
   "cell_type": "markdown",
   "metadata": {},
   "source": [
    "3) When events are **independent** of each other, the probability of all of the events occurring is equal to a product of the probabilities of each of the events occurring. \n",
    "\n",
    "So if events $A$ and $B$ are independent and if the probability of $A$ is, say, $0.5$ and the probability of $B$ is, say,  $0.3$, then the probability of $A$ *and* $B$ is $0.15$ (smaller than either of the other two) - **multiplicative law**."
   ]
  },
  {
   "cell_type": "markdown",
   "metadata": {
    "tags": []
   },
   "source": [
    "## Probability Distributions\n",
    "\n",
    "A **probability distribution** is a list of all of the possible outcomes of a **random variable** along with their corresponding **probability** values.\n",
    "\n",
    "A **random variable** is a numerical description of the outcome of a statistical experiment. \n",
    "\n",
    "Probability distributions fall into two groups: **discrete** probability distributions and **continuous** probability distributions, depending upon whether they define the probability distribution for a discrete or a continuous random variable."
   ]
  },
  {
   "cell_type": "markdown",
   "metadata": {},
   "source": [
    "A discrete random variable can take on one of a finite set of values, e.g., the values associated with a roll of a die. \n",
    "\n",
    "A continuous random variable can take on any of the infinite real values between two real numbers, e.g., the speed of a car traveling between 0 miles per hour and the car’s maximum speed."
   ]
  },
  {
   "cell_type": "markdown",
   "metadata": {},
   "source": [
    "Discrete probability distributions are easier to describe. Since there are a finite number of values that the variable can take on, the distribution can be described by simply listing the probability of each value.\n",
    "\n",
    "Continuous probability distributions are trickier. Since there are an infinite number of possible values, the probability that a continuous random variable will take on a specific value is usually 0. For example, the probability that a car is travelling at exactly 81.3457283 miles per hour is probably 0. \n",
    "\n"
   ]
  },
  {
   "cell_type": "markdown",
   "metadata": {},
   "source": [
    "Mathematicians like to describe continuous probability distributions using a **probability density function**, often abbreviated as **PDF**. A PDF describes the probability of a random variable lying between two values. \n",
    "\n",
    "Think of the PDF as defining a curve where the values on the x-axis lie between the minimum and maximum value of the random variable. (In some cases the x-axis is infinitely long.) Under the assumption that x1 and x2 lie in the domain of the random variable, the probability of the variable having a value between x1 and x2 is the area under the curve between x1 and x2. \n",
    "\n",
    "For random.random() the area under the curve from 0 to 1 is 1. This makes sense because we know that the probability of random.random() returning a value between 0 and 1 is 1.\n",
    "\n",
    "Similarly, the area under the curve for random.random() + random.random() from 0 to 2 is 1, and the area under the curve from 0 to 1 is 0.5.\n"
   ]
  },
  {
   "cell_type": "markdown",
   "metadata": {},
   "source": [
    "---\n",
    "### Discrete distributions"
   ]
  },
  {
   "cell_type": "markdown",
   "metadata": {},
   "source": [
    "#### Bernoulli"
   ]
  },
  {
   "cell_type": "markdown",
   "metadata": {
    "tags": []
   },
   "source": [
    "The Bernoulli distribution is used to describe situations in which the random variable can take only two possible values (corresponding to a response of Yes or No in an opinion poll, success or failure in an examination, and so on). It is a matter of chance which of the two outcomes is observed. \n",
    "\n",
    "#### Example: a coin flip experiment."
   ]
  },
  {
   "cell_type": "markdown",
   "metadata": {},
   "source": [
    "We can directly simulate with scipy."
   ]
  },
  {
   "cell_type": "code",
   "execution_count": null,
   "metadata": {},
   "outputs": [],
   "source": []
  },
  {
   "cell_type": "code",
   "execution_count": null,
   "metadata": {},
   "outputs": [],
   "source": [
    "from scipy.stats import randint\n",
    "\n",
    "n_flips = 10 # Number of coin flips\n",
    "data = randint.rvs(0, 2, size=n_flips)  # stats module randint has function rvs()\n",
    "print(data)"
   ]
  },
  {
   "cell_type": "code",
   "execution_count": null,
   "metadata": {},
   "outputs": [],
   "source": [
    "from scipy.stats import bernoulli\n",
    "\n",
    "data_bern = bernoulli.rvs(size=10, p=0.5)\n",
    "\n",
    "_ = plt.hist(data_bern)  # histogram"
   ]
  },
  {
   "cell_type": "markdown",
   "metadata": {},
   "source": [
    "* Notes\n",
    "    * small samples. e.g. 10 flips, are not very accurate. That is why we need to be skeptical of the observations that we get from sample populations, especially ones with low numbers.\n",
    "\n",
    "    * The __law of large numbers__ points out that as the number of trials or observations increases, the observed or the actual probability approaches the expected mean or the theoretical value. This means that as the sample size grows, the mean of the sample gets closer to the average of the total population.\n",
    "    * A histogram is a depiction of a **frequency distribution**. It tells us how often a random variable has taken on a value in some range, e.g., how often the fraction of times a coin came up heads. A histogram also provides information about the relative frequency of various ranges. "
   ]
  },
  {
   "cell_type": "code",
   "execution_count": null,
   "metadata": {},
   "outputs": [],
   "source": []
  },
  {
   "cell_type": "markdown",
   "metadata": {},
   "source": [
    "#### Simulating 200 trials of 100 coin flip experiments\n",
    "\n",
    "Store the number of heads in each trial in the array results."
   ]
  },
  {
   "cell_type": "code",
   "execution_count": null,
   "metadata": {},
   "outputs": [],
   "source": [
    "n_expts = 100                    # number of experiments to simulate\n",
    "results = np.zeros(n_expts)      # create array for results of \"experiments\"\n",
    "\n",
    "for i in range(n_expts):\n",
    "    results[i] = np.sum(randint.rvs(0, 2, size=n_flips)) #Note that each experiment consists of 100 coin flips\n",
    "    \n",
    "plt.hist(results)\n",
    "plt.xlabel(\"# of heads\");"
   ]
  },
  {
   "cell_type": "markdown",
   "metadata": {},
   "source": [
    "#### Central limit theorem\n",
    "\n",
    "if we add up a large number of values from almost any distribution, the distribution of the sum converges to normal.\n",
    "\n",
    "In our example, the __central limit theorem__ says that total number of heads divided by the number of flips (100) should tend toward a normal distribution with a mean of 0.5 and a standard deviation of $\\sigma_{pop}/\\sqrt{100}$"
   ]
  },
  {
   "cell_type": "code",
   "execution_count": null,
   "metadata": {},
   "outputs": [],
   "source": [
    "print(\"sample mean =\", np.mean(results/n_flips), \", sample std =\", np.std(results/n_flips))\n",
    "\n",
    "sigma_pop = 1/2\n",
    "print(\"predicted std =\", sigma_pop/np.sqrt(n_flips) )"
   ]
  },
  {
   "cell_type": "markdown",
   "metadata": {},
   "source": [
    "#### Binomial\n"
   ]
  },
  {
   "cell_type": "markdown",
   "metadata": {},
   "source": [
    "The binomial distribution is concerned with collections of such Bernoully (i.e. binary) outcomes and looks at the total number of outcomes of one kind (for example, the total number of Yeses in an opinion poll, or the number of students in a class who pass the examination or the\n",
    "total number of defective items in a quality sample.)"
   ]
  },
  {
   "cell_type": "code",
   "execution_count": null,
   "metadata": {},
   "outputs": [],
   "source": [
    "from scipy.stats import binom \n",
    "\n",
    "n = 10\n",
    "p = 0.5\n",
    "# defining the list of r values\n",
    "r_values = list(range(n + 1))\n",
    "# obtaining the mean and variance \n",
    "mean, var = binom.stats(n, p)\n",
    "\n",
    "# list of pmf values\n",
    "dist = [binom.pmf(r, n, p) for r in r_values ]\n",
    "\n",
    "print(f\"mean = {mean}\")\n",
    "print(f\"variance = {var}\")"
   ]
  },
  {
   "cell_type": "markdown",
   "metadata": {},
   "source": [
    "Our observations above can be understood by considering the mean and variance of the **Binomial Distribution**.\n",
    "\n",
    "$\\mu$ the mean = $Np$, $\\sigma^2$ the variance = $Np(1-p)$ where N is the number of trials and p is the probability of success (e.g. getting \"heads\")."
   ]
  },
  {
   "cell_type": "code",
   "execution_count": null,
   "metadata": {},
   "outputs": [],
   "source": [
    "plt.bar(r_values, dist)\n",
    "plt.show()"
   ]
  },
  {
   "cell_type": "markdown",
   "metadata": {},
   "source": [
    "When success and failure are equally likely, the binomial distribution is a normal distribution."
   ]
  },
  {
   "cell_type": "markdown",
   "metadata": {},
   "source": [
    "---"
   ]
  },
  {
   "cell_type": "markdown",
   "metadata": {},
   "source": [
    "### Continuous distributions"
   ]
  },
  {
   "cell_type": "markdown",
   "metadata": {},
   "source": [
    "#### Uniform distribution\n"
   ]
  },
  {
   "cell_type": "code",
   "execution_count": null,
   "metadata": {},
   "outputs": [],
   "source": [
    "from scipy.stats import uniform"
   ]
  },
  {
   "cell_type": "code",
   "execution_count": null,
   "metadata": {},
   "outputs": [],
   "source": [
    "# random numbers from uniform distribution\n",
    "n = 100\n",
    "start = 0\n",
    "width = 1\n",
    "\n",
    "data_uniform = uniform.rvs(size=n, loc=start, scale=width)"
   ]
  },
  {
   "cell_type": "code",
   "execution_count": null,
   "metadata": {},
   "outputs": [],
   "source": [
    "plt.hist(data_uniform, bins=20);"
   ]
  },
  {
   "cell_type": "markdown",
   "metadata": {},
   "source": [
    "#### Normal (Gaussian) distribution\n",
    "\n",
    "A normal (or Gaussian) distribution is defined by the probability density function\n",
    "\n",
    "\\begin{equation}\n",
    "P(x) = \\frac{1}{\\sigma\\sqrt{2\\pi}}e^-\\frac{(x-\\mu)^2}{2\\sigma^2}\n",
    "\\end{equation}\n",
    "\n",
    "where μ is the mean, σ the standard deviation, and e is Euler’s number (roughly 2.718)"
   ]
  },
  {
   "cell_type": "markdown",
   "metadata": {},
   "source": [
    "Normal distributions peak at the mean, fall off symmetrically above and below the mean, and asymptotically approach 0. They have the nice mathematical property of being completely specified by two parameters: the mean and the standard deviation (the only two parameters in the equation). Knowing these is equivalent to knowing the entire distribution. The shape of the normal distribution resembles (in the eyes of some) that of a bell, so it sometimes is referred to as a **bell curve**."
   ]
  },
  {
   "cell_type": "code",
   "execution_count": null,
   "metadata": {},
   "outputs": [],
   "source": [
    "from scipy.stats import norm\n",
    "\n",
    "# generate random numbers from N(0,1)\n",
    "data_normal = norm.rvs(size=100, loc=0, scale=1)  # loc=mean, scale=std-dev"
   ]
  },
  {
   "cell_type": "code",
   "execution_count": null,
   "metadata": {},
   "outputs": [],
   "source": [
    "plt.hist(data_normal, bins=100);"
   ]
  },
  {
   "cell_type": "markdown",
   "metadata": {},
   "source": [
    "#### Frequency Test \n",
    "\n",
    "Consider a sequence of random numbers uniformly distributed between 0 and 1. \n",
    "\n",
    "\\begin{equation}\n",
    "    f(x)= \n",
    "\\begin{cases}\n",
    "    1,& \\text{if } 0 \\leq x\\leq 1\\\\\n",
    "    0,              & \\text{otherwise}\n",
    "\\end{cases}\n",
    "\\end{equation}\n",
    "\n"
   ]
  },
  {
   "cell_type": "code",
   "execution_count": null,
   "metadata": {
    "slideshow": {
     "slide_type": "slide"
    },
    "tags": []
   },
   "outputs": [],
   "source": [
    "x = np.linspace(-1,2,4)\n",
    "y = [0,0,1,0]\n",
    "\n",
    "fig, ax = plt.subplots()\n",
    "ax.step(x,y)    # step function\n",
    "ax.set_xlabel('x')\n",
    "ax.set_ylabel('f(x)')\n",
    "ax.set_ylim((0.5, 1.5))\n",
    "ax.set_title('PDF for random numbers ');\n",
    "ax.grid()"
   ]
  },
  {
   "cell_type": "code",
   "execution_count": null,
   "metadata": {
    "slideshow": {
     "slide_type": "slide"
    }
   },
   "outputs": [],
   "source": [
    "my_numbers = np.random.uniform(low=0, high=1, size=100)\n",
    "\n",
    "plt.plot(my_numbers, 'o', alpha=0.3);\n",
    "# The alpha=0.3 modifier makes the symbols slightly transparent so that we can see the density of the data points better."
   ]
  },
  {
   "cell_type": "markdown",
   "metadata": {
    "slideshow": {
     "slide_type": "slide"
    }
   },
   "source": [
    "In science, we often want our numbers to be random, but not uniformly distributed. \n",
    "\n",
    "For example, measurement errors often follow a Gaussian or \"normal\" distribution. This means that we will very often measure something that is close to the mean value of all our measurements, and only rarely we will mess up our measurement so badly that we get a very extreme outlier.\n",
    "\n",
    "So in the end we would like to get something that looks like this:"
   ]
  },
  {
   "cell_type": "code",
   "execution_count": null,
   "metadata": {
    "slideshow": {
     "slide_type": "subslide"
    }
   },
   "outputs": [],
   "source": [
    "gaussian_numbers = np.random.normal(loc=10, scale=5, size=10000)\n",
    "# loc is where we want the mean of the numbers to be,\n",
    "# and scale is a measure for how wide the numbers should scatter around that mean.\n",
    "\n",
    "plt.plot(np.arange(0, len(gaussian_numbers)), gaussian_numbers, 'o', alpha=0.3)"
   ]
  },
  {
   "cell_type": "markdown",
   "metadata": {},
   "source": [
    "---\n",
    "## Simple stochastic models"
   ]
  },
  {
   "cell_type": "markdown",
   "metadata": {},
   "source": [
    "#### Simulating the rolling of a die"
   ]
  },
  {
   "cell_type": "code",
   "execution_count": null,
   "metadata": {},
   "outputs": [],
   "source": [
    "# Using randint()\n",
    "def roll_die():\n",
    "    return np.random.randint(1,7) # generate a number in [1,7) << excludes 7"
   ]
  },
  {
   "cell_type": "markdown",
   "metadata": {
    "slideshow": {
     "slide_type": "slide"
    }
   },
   "source": [
    "#### Making random choices\n",
    "\n",
    "The random module contains the choice() function for this purpose. This function can be used to choose a random element from a non-empty sequence.\n",
    "This means that we are capable of picking a random character from a string or a random element from a list or a tuple."
   ]
  },
  {
   "cell_type": "code",
   "execution_count": null,
   "metadata": {},
   "outputs": [],
   "source": [
    "# Using choice()\n",
    "def roll_die_choice():\n",
    "    return np.random.choice(range(1,7)) # choose numbers from [1,7) << excludes 7"
   ]
  },
  {
   "cell_type": "code",
   "execution_count": null,
   "metadata": {},
   "outputs": [],
   "source": [
    "# Test the process\n",
    "\n",
    "def test_roll(N=10):\n",
    "    for _ in range(N):  # note the _\n",
    "        print(roll_die(), end=\" \")     "
   ]
  },
  {
   "cell_type": "code",
   "execution_count": null,
   "metadata": {},
   "outputs": [],
   "source": [
    "test_roll()"
   ]
  },
  {
   "cell_type": "markdown",
   "metadata": {},
   "source": [
    "At any stage you will not be able to predict what the next number will be - so the next number is a random variable."
   ]
  },
  {
   "cell_type": "markdown",
   "metadata": {
    "tags": []
   },
   "source": [
    "---\n",
    "\n",
    "#### Example\n",
    "\n",
    "Using the die , carry out a sequence of 30 rolls with a view to obtaining either a three or a six. Each time that a three-spot face or a six-spot face occurs record a 1, to represent success. Each time that some other face of the die occurs record a 0, to represent failure. In this way you will generate a sequence of 1s and 0s.\n",
    "\n",
    "By adding the 1s and 0s as you go along you can calculate the total number of successes after each roll. At each roll you can also calculate the proportion of rolls so far that have produced a three- or six-spot face. Letting P denote this proportion, plot a graph of P, on the vertical axis, against the number of rolls, on the horizontal axis. "
   ]
  },
  {
   "cell_type": "code",
   "execution_count": null,
   "metadata": {},
   "outputs": [],
   "source": [
    "N = 500\n",
    "running_total = np.zeros(N+1)\n",
    "tot = 0\n",
    "for i in range(1, N+1):\n",
    "    if  roll_die() == 3 or roll_die() == 6:\n",
    "        tot += 1\n",
    "    running_total[i] = tot/i\n",
    "fig, ax = plt.subplots(figsize=(12,5))\n",
    "ax.plot(running_total[1:], '-')\n",
    "ax.set_xlim([0,N+1])\n",
    "ax.set_ylabel('P')\n",
    "ax.grid()"
   ]
  },
  {
   "cell_type": "markdown",
   "metadata": {},
   "source": [
    "---"
   ]
  },
  {
   "cell_type": "markdown",
   "metadata": {},
   "source": [
    "#### Example: rolling a die\n",
    "\n",
    "Suppose you roll a die several times. What is the probablity that you get 11111 (five ones) in a row? Note that this is a pretty rare event!"
   ]
  },
  {
   "cell_type": "markdown",
   "metadata": {},
   "source": [
    "The probability of rolling a $1$ is:\n",
    "\n",
    "P(1) = $(\\frac{1}{6})$\n",
    "\n",
    "If you roll 5 times, all events are independent, then:\n",
    "\n",
    "P(11111) = $(\\frac{1}{6})^5$"
   ]
  },
  {
   "cell_type": "markdown",
   "metadata": {},
   "source": [
    "#### Simulation"
   ]
  },
  {
   "cell_type": "code",
   "execution_count": null,
   "metadata": {},
   "outputs": [],
   "source": [
    "np.random.seed(123) # This makes python repeat the same numbers every time we run the program.\n",
    "                    # You can choose any number to go inside the brackets of \"seed\".\n",
    "\n",
    "def simulate_die(sequence, num_trials):\n",
    "    \"\"\"\n",
    "    Simulate rolling a single die by counting.\n",
    "    \n",
    "    Input, a desired \"sequence\" and number of trials\n",
    "    Output, estimated probability the sequence was generated\n",
    "            by rolling the die.\n",
    "    \"\"\"\n",
    "    num_succ= 0\n",
    "    for i in range(num_trials): # loop over num trials\n",
    "        result = ''\n",
    "        for j in range(len(sequence)): # roll as many times as necessary \n",
    "            result += str(roll_die())\n",
    "\n",
    "        if result == sequence:\n",
    "            num_succ += 1\n",
    "        est_prob = num_succ/num_trials\n",
    "        \n",
    "    return round(est_prob, 8)"
   ]
  },
  {
   "cell_type": "code",
   "execution_count": null,
   "metadata": {},
   "outputs": [],
   "source": [
    "# What is the probablity that you get 11111 (5 ones) in a row?\n",
    "\n",
    "sequence = '11111'"
   ]
  },
  {
   "cell_type": "code",
   "execution_count": null,
   "metadata": {},
   "outputs": [],
   "source": [
    "trials = 1000"
   ]
  },
  {
   "cell_type": "code",
   "execution_count": null,
   "metadata": {},
   "outputs": [],
   "source": [
    "print (f'Estimated probability of getting {sequence} = ', simulate_die(sequence, trials))"
   ]
  },
  {
   "cell_type": "code",
   "execution_count": null,
   "metadata": {},
   "outputs": [],
   "source": [
    "print (f'Actual probability of getting {sequence} =  {1/6**len(sequence):.6f}')"
   ]
  },
  {
   "cell_type": "markdown",
   "metadata": {
    "tags": []
   },
   "source": [
    "### Key point\n",
    "\n",
    "**It takes *a lot* of trials to get a good estimate of the frequency of occurrence of a rare event.**\n"
   ]
  },
  {
   "cell_type": "markdown",
   "metadata": {},
   "source": [
    "---"
   ]
  },
  {
   "cell_type": "markdown",
   "metadata": {
    "slideshow": {
     "slide_type": "slide"
    }
   },
   "source": [
    "# Random Numbers"
   ]
  },
  {
   "cell_type": "markdown",
   "metadata": {
    "slideshow": {
     "slide_type": "slide"
    }
   },
   "source": [
    "### What are random numbers?\n",
    "\n",
    "\n",
    "\"A random number is a number chosen as if by chance from some specified distribution such that selection of a large set of these numbers reproduces the underlying distribution.\"  When used without qualification, the word \"random\" usually means \"random with a uniform distribution.\" Other distributions are of course possible.\n",
    "(http://mathworld.wolfram.com/RandomNumber.html). \n"
   ]
  },
  {
   "cell_type": "markdown",
   "metadata": {
    "slideshow": {
     "slide_type": "slide"
    }
   },
   "source": [
    "### Properties\n",
    "\n",
    "* independent\n",
    "* uncorrelated \n"
   ]
  },
  {
   "cell_type": "markdown",
   "metadata": {
    "slideshow": {
     "slide_type": "slide"
    }
   },
   "source": [
    "### Where do they arise?\n",
    "\n",
    "* Dice\n",
    "* Cosmic rays\n",
    "* Electrical noise\n",
    "* Since the 40s: computer generated\n",
    "* etc?\n"
   ]
  },
  {
   "cell_type": "markdown",
   "metadata": {
    "slideshow": {
     "slide_type": "slide"
    }
   },
   "source": [
    "### Why do we need them?\n",
    "\n",
    "* Simulation\n",
    "* Security\n"
   ]
  },
  {
   "cell_type": "markdown",
   "metadata": {
    "slideshow": {
     "slide_type": "slide"
    }
   },
   "source": [
    "### Random Data Generation in Python\n",
    "\n",
    "Goal: To produce a sequence of numbers in [0,1] that simulates, or imitates, the ideal properties of random numbers.\n",
    "\n",
    "* Pseudo-random numb er generators (PRNG)\n",
    "\n",
    "    * A PRNG is a random number generator expressed as a deterministic math function. \n",
    "    * It can be called repeatedly to deliver a sequence of random numbers, but under the same initial conditions (if given the same initial “seed” value) it will always produce the same sequence.\n"
   ]
  },
  {
   "cell_type": "markdown",
   "metadata": {
    "slideshow": {
     "slide_type": "slide"
    }
   },
   "source": [
    "### Linear Congruential Generators\n",
    "\n",
    "The generator is defined by recurrence relation:\n",
    "\n",
    "\\begin{equation}\n",
    "X_{n+1} = (aX_{n}+c)~mod~m\n",
    "\\end{equation}\n",
    "\n",
    "where X is the **sequence** of pseudorandom values, and the parameters $a$ and $M$ are called the multiplier and the modulus respectively; c is the increment and $x_0$ is the seed.\n",
    "\n",
    "Random number generators of this form are called linear congruential generators.\n",
    "\n",
    "https://www.wikiwand.com/en/Linear_congruential_generator\n"
   ]
  },
  {
   "cell_type": "markdown",
   "metadata": {
    "slideshow": {
     "slide_type": "slide"
    }
   },
   "source": [
    "### Example"
   ]
  },
  {
   "cell_type": "code",
   "execution_count": null,
   "metadata": {
    "slideshow": {
     "slide_type": "skip"
    },
    "tags": []
   },
   "outputs": [],
   "source": [
    "# To produce a sequence of integers, X1, X2, . . . between 0 and m-1\n",
    "\n",
    "def xk(x, a, c, M):\n",
    "    val = (a*x+c) % M\n",
    "    #print(a,'*',x,'+',c,' mod ',M, ' = ',val)\n",
    "    return val\n",
    "\n",
    "# The selection of the values for a, c, m, and X0 drastically affects the\n",
    "# statistical properties and the cycle length.\n",
    "X0 = 0     # seed \n",
    "a = 17\n",
    "c = 43\n",
    "m = 123\n",
    "\n",
    "N = 11\n",
    "x = np.zeros(N)\n",
    "x[0] = X0\n",
    "for j in range(1,N):\n",
    "    x[j] = xk(x[j-1], a,  c, m)\n",
    "    #print(f\"{x[j]/m:.3f}\", end = \", \")"
   ]
  },
  {
   "cell_type": "code",
   "execution_count": null,
   "metadata": {},
   "outputs": [],
   "source": [
    "print(x)"
   ]
  },
  {
   "cell_type": "markdown",
   "metadata": {
    "jp-MarkdownHeadingCollapsed": true,
    "slideshow": {
     "slide_type": "slide"
    },
    "tags": []
   },
   "source": [
    "#### Properties:\n",
    "\n",
    "A \"good\" random-number generator should satisfy the following properties:\n",
    "\n",
    "* Uniformity: The numbers generated appear to be distributed uniformly on (0, 1);\n",
    "* Independence: The numbers generated show no correlation with each other;\n",
    "* Replication: The numbers should be replicable (e.g., for debugging or comparison of different systems).\n",
    "* Cycle length: It should take long before numbers start to repeat;\n",
    "* Speed: The generator should be fast;\n",
    "* Memory usage: The generator should not require a lot of storage.\n",
    "* __Cryptographically secure__"
   ]
  },
  {
   "cell_type": "markdown",
   "metadata": {
    "slideshow": {
     "slide_type": "slide"
    },
    "tags": []
   },
   "source": [
    "## The Python pseudo random number generator (PRNG)"
   ]
  },
  {
   "cell_type": "markdown",
   "metadata": {
    "slideshow": {
     "slide_type": "slide"
    }
   },
   "source": [
    "The **Mersenne Twister**: developed in 1997 by Makoto Matsumoto and Takuji Nishimura.\n",
    "\n",
    "In current implementations, it has a period of $2^{19937}-1$, and it's still the default PRNG in many programming languages today (including Python)"
   ]
  },
  {
   "cell_type": "code",
   "execution_count": null,
   "metadata": {
    "slideshow": {
     "slide_type": "slide"
    },
    "tags": []
   },
   "outputs": [],
   "source": [
    "# Python\n",
    "\n",
    "random_number = random.random()\n",
    "print(random_number)"
   ]
  },
  {
   "cell_type": "markdown",
   "metadata": {
    "slideshow": {
     "slide_type": "slide"
    }
   },
   "source": [
    "The fastest and most efficient way will be using the random package of the numpy module:\n",
    "\n"
   ]
  },
  {
   "cell_type": "code",
   "execution_count": null,
   "metadata": {
    "slideshow": {
     "slide_type": "fragment"
    },
    "tags": []
   },
   "outputs": [],
   "source": [
    "# Numpy\n",
    "\n",
    "np.random.random(10)"
   ]
  },
  {
   "cell_type": "markdown",
   "metadata": {
    "slideshow": {
     "slide_type": "fragment"
    }
   },
   "source": [
    "Warning:\n",
    "The random package of the Numpy module apparently - even though it doesn't say so in the documentation - is completely deterministic, using also the Mersenne twister sequence!\n",
    "\n"
   ]
  },
  {
   "cell_type": "markdown",
   "metadata": {
    "slideshow": {
     "slide_type": "slide"
    }
   },
   "source": [
    "### Random Numbers Satisfying sum-to-one Condition\n",
    "\n",
    "It's very easy to create a list of random numbers satisfying the condition that they sum up to one. \n",
    "\n",
    "This way, we turn them into values, which could be used as probabilities.  \n",
    "\n",
    "All we have to do is divide every value by the sum of the values. The easiest way will be using numpy again of course:\n"
   ]
  },
  {
   "cell_type": "code",
   "execution_count": null,
   "metadata": {
    "slideshow": {
     "slide_type": "slide"
    },
    "tags": []
   },
   "outputs": [],
   "source": [
    "list_of_random_floats = np.random.random(10)\n",
    "print(list_of_random_floats)\n",
    "\n",
    "sum_of_values = list_of_random_floats.sum()\n",
    "print(sum_of_values)"
   ]
  },
  {
   "cell_type": "code",
   "execution_count": null,
   "metadata": {
    "tags": []
   },
   "outputs": [],
   "source": [
    "normalized_values = list_of_random_floats / sum_of_values\n",
    "print(normalized_values.sum())"
   ]
  },
  {
   "cell_type": "markdown",
   "metadata": {
    "slideshow": {
     "slide_type": "slide"
    }
   },
   "source": [
    "### Random Samples with Python\n",
    "\n",
    "\n",
    "A sample can be understood as a representative part from a larger group, usually called a \"population\".\n",
    "\n",
    "The module numpy.random contains a function random_sample, which returns random floats in the half open interval [0.0, 1.0). The results are from the \"continuous uniform\" distribution over the stated interval. This function takes just one parameter \"size\", which defines the output shape. If we set size to (3, 4) e.g., we will get an array with the shape (3, 4) filled with random elements:"
   ]
  },
  {
   "cell_type": "code",
   "execution_count": null,
   "metadata": {
    "slideshow": {
     "slide_type": "slide"
    },
    "tags": []
   },
   "outputs": [],
   "source": [
    "x = np.random.random_sample((3, 4))\n",
    "print(x)"
   ]
  },
  {
   "cell_type": "code",
   "execution_count": null,
   "metadata": {
    "slideshow": {
     "slide_type": "slide"
    },
    "tags": []
   },
   "outputs": [],
   "source": [
    "# If we call random_sample with an integer, we get a one-dimensional array. \n",
    "x = np.random.random_sample(10)\n",
    "print(x)"
   ]
  },
  {
   "cell_type": "markdown",
   "metadata": {
    "slideshow": {
     "slide_type": "slide"
    }
   },
   "source": [
    "You can also generate arrays with values from an arbitrary interval [a, b), where a has to be less than b. It can be done like this:\n",
    "\n",
    "(b - a) * random_sample() + a"
   ]
  },
  {
   "cell_type": "code",
   "execution_count": null,
   "metadata": {
    "slideshow": {
     "slide_type": "fragment"
    },
    "tags": []
   },
   "outputs": [],
   "source": [
    "a = -3.4\n",
    "b = 5.9\n",
    "\n",
    "A = (b - a) * np.random.random_sample(10) + a\n",
    "\n",
    "print(A)"
   ]
  },
  {
   "cell_type": "markdown",
   "metadata": {
    "slideshow": {
     "slide_type": "slide"
    }
   },
   "source": [
    "## True Random Numbers\n",
    "\n",
    "The website http://random.org claims to offer true random numbers. \n"
   ]
  },
  {
   "cell_type": "markdown",
   "metadata": {
    "slideshow": {
     "slide_type": "slide"
    }
   },
   "source": [
    "## Test of randomness"
   ]
  },
  {
   "cell_type": "markdown",
   "metadata": {
    "slideshow": {
     "slide_type": "slide"
    }
   },
   "source": [
    "Problems with pseudo-Random Numbers\n",
    "\n",
    "* The generated numbers might not be uniformly distributed\n",
    "* The mean of the generated numbers might be too high or too low\n",
    "* The variance of the generated numbers might be too high or too low\n",
    "\n",
    "There might be dependence\n",
    "\n",
    "* Autocorrelation between numbers\n",
    "* Numbers successively higher or lower than adjacent numbers\n",
    "* Several numbers above the mean followed by several numbers below the mean \n",
    "\n",
    "Plenty of methods have been created to test Random Number Generator’s and the sequences they create."
   ]
  },
  {
   "cell_type": "markdown",
   "metadata": {
    "slideshow": {
     "slide_type": "slide"
    }
   },
   "source": [
    "### Applications of random numbers\n",
    "\n",
    "**Numerical Analysis** - PRNGs can be used to help solve many problems that are either too difficult to solve, or too difficult to solve within a reasonable time. \n",
    "\n",
    "There are techniques that can approximate the problem by relying on random numbers. An example of a problem in this case are the **Monte Carlo Methods**.\n",
    "\n"
   ]
  },
  {
   "cell_type": "markdown",
   "metadata": {
    "slideshow": {
     "slide_type": "slide"
    }
   },
   "source": [
    "**Statistics** - In statistical sampling, studies usually involve a large number\n",
    "of samples, and being able to add randomness to the collection can improve\n",
    "the accuracy of the statistical tests.\n",
    "\n"
   ]
  },
  {
   "cell_type": "markdown",
   "metadata": {
    "slideshow": {
     "slide_type": "slide"
    }
   },
   "source": [
    "**Simulations** - In any some sort of simulation, randomness is always needed to make the model as real as possible. Some examples are traffic simulations, economics, game simulations, physics simulations, and many more.\n",
    "\n",
    "PRNGs provide a large benefit here, as the\n",
    "sequence can be set so it starts at the same place in the sequence each\n",
    "time. This allows for more control in the simulation, and the ability to\n",
    "observe the effects of changing only certain parameters while keeping the\n",
    "”randomness”.\n"
   ]
  },
  {
   "cell_type": "markdown",
   "metadata": {
    "slideshow": {
     "slide_type": "slide"
    }
   },
   "source": [
    "**Computer Programs** - Similar to numerical analysis, many computer algorithms and programs require  a random number or random sequence.\n",
    "\n",
    "Computer Algorithms can also be tested with by using random inputs."
   ]
  },
  {
   "cell_type": "markdown",
   "metadata": {
    "slideshow": {
     "slide_type": "slide"
    }
   },
   "source": [
    "**Recreation** - Random numbers have been utilized for a variety of recreational purposes. Many computer games include some degree of randomness. One of the most successful and widespread use of random numbers in recreation is gambling - There are card games based on randomness and probability, and slot machines at casinos utilize Random Number Generators to operate.\n",
    "\n"
   ]
  },
  {
   "cell_type": "markdown",
   "metadata": {
    "slideshow": {
     "slide_type": "slide"
    }
   },
   "source": [
    "**Cryptography** - Cryptography systems use extremely large amounts of random data. RSA, for example, requires the use of large random primes for its security. \n",
    "\n",
    "Two factor authentication will often send users a one time code that is randomly generated to verify the user’s identity. \n",
    "\n",
    "One time pads require a long stream of random integers to serve as a key that is the\n",
    "same size or longer than the message being sent.\n",
    "\n"
   ]
  },
  {
   "cell_type": "markdown",
   "metadata": {},
   "source": [
    "References:\n",
    "    \n",
    "https://www.wikiwand.com/en/Randomness"
   ]
  }
 ],
 "metadata": {
  "kernelspec": {
   "display_name": "Python 3 (ipykernel)",
   "language": "python",
   "name": "python3"
  },
  "language_info": {
   "codemirror_mode": {
    "name": "ipython",
    "version": 3
   },
   "file_extension": ".py",
   "mimetype": "text/x-python",
   "name": "python",
   "nbconvert_exporter": "python",
   "pygments_lexer": "ipython3",
   "version": "3.9.7"
  }
 },
 "nbformat": 4,
 "nbformat_minor": 4
}
