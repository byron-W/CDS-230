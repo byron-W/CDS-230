{
 "cells": [
  {
   "cell_type": "code",
   "execution_count": 14,
   "metadata": {},
   "outputs": [],
   "source": [
    "from IPython.display import Image\n",
    "\n",
    "import numpy as np\n",
    "import matplotlib.pyplot as plt"
   ]
  },
  {
   "cell_type": "markdown",
   "metadata": {},
   "source": [
    "---\n"
   ]
  },
  {
   "cell_type": "markdown",
   "metadata": {
    "slideshow": {
     "slide_type": "slide"
    }
   },
   "source": [
    "# Discretization of Dynamical systems"
   ]
  },
  {
   "cell_type": "markdown",
   "metadata": {
    "slideshow": {
     "slide_type": "slide"
    },
    "tags": []
   },
   "source": [
    "A **dynamical system** is a system whose **state** is uniquely specified by a set of variables and whose behavior is described by a predefined **rule** that describes the system's time evolution."
   ]
  },
  {
   "cell_type": "markdown",
   "metadata": {},
   "source": [
    "---\n"
   ]
  },
  {
   "cell_type": "markdown",
   "metadata": {
    "slideshow": {
     "slide_type": "slide"
    },
    "tags": []
   },
   "source": [
    "### Classification of dynamical systems\n",
    "\n",
    "When studying dynamical systems it is useful to specify some characteristics that provide a subdivision into special categories. "
   ]
  },
  {
   "cell_type": "markdown",
   "metadata": {},
   "source": [
    "---\n"
   ]
  },
  {
   "cell_type": "markdown",
   "metadata": {
    "slideshow": {
     "slide_type": "slide"
    },
    "tags": []
   },
   "source": [
    "An important characteristic of a dynamical system is whether it is continuous or discrete.\n"
   ]
  },
  {
   "cell_type": "markdown",
   "metadata": {
    "slideshow": {
     "slide_type": "slide"
    },
    "tags": []
   },
   "source": [
    "#### Discrete-time\n",
    "\n",
    "\\begin{equation}\n",
    "x_t = F(x_{t-1},t)\n",
    "\\end{equation}\n",
    "\n",
    "This type of model is called a *difference* equation, a *recurrence* equation, or an *iterative* map.\n",
    "\n"
   ]
  },
  {
   "cell_type": "markdown",
   "metadata": {},
   "source": [
    "---\n"
   ]
  },
  {
   "cell_type": "markdown",
   "metadata": {
    "tags": []
   },
   "source": [
    "#### Difference equations\n",
    "\n",
    "\n",
    "A difference equation is an equation which evolves over discrete time intervals. Forexample,a difference equation would be a function which would tell us what the value of some variable $y$ is for any given time $n$.\n",
    "\n",
    "We generally have some starting point $n$ ( usually $n=0$) and we may or may not have an end point.  For example, the following model exhibiting __geometric growth__, gives us the _rule_ how $y_n$ evolves over one period:\n",
    "\n",
    "\\begin{equation}\n",
    "x_{n} = x_{n-1} + rx_{n-1}, \\; x_0 = 1\n",
    "\\end{equation}\n",
    "\n",
    "where $r$ is the growth rate."
   ]
  },
  {
   "cell_type": "markdown",
   "metadata": {},
   "source": [
    "---\n"
   ]
  },
  {
   "cell_type": "markdown",
   "metadata": {
    "slideshow": {
     "slide_type": "slide"
    },
    "tags": []
   },
   "source": [
    "#### Continuous-time\n",
    "\n",
    "\\begin{equation}\n",
    "\\frac{dx}{dt}=F(x,t)\n",
    "\\end{equation}\n",
    "\n",
    "This is a *differential* equation (more specifically an *ordinary* differential equation or ODE)."
   ]
  },
  {
   "cell_type": "markdown",
   "metadata": {},
   "source": [
    "#### Differential equations\n",
    "\n",
    "Population growth can be modeled with:\n",
    "\n",
    "\\begin{equation}\n",
    "\\frac{dx}{dt}= rx, \\quad x(t_0) = x_0\n",
    "\\end{equation}\n",
    "\n",
    "where $r$ is the growth rate, which is the only _parameter_ in the model, and $x_0$ is the initial condition.\n",
    "\n",
    "These kind of problems are called **initial value problems**. Most of the problems we will discuss are **IVP**s.\n",
    "\n",
    "Analytical, or exact, solution of this **differential equation** is:\n",
    "\n",
    "\\begin{equation}\n",
    "x(t)= x_0 e^{rt}\n",
    "\\end{equation}\n"
   ]
  },
  {
   "cell_type": "markdown",
   "metadata": {},
   "source": [
    "---\n"
   ]
  },
  {
   "cell_type": "markdown",
   "metadata": {
    "slideshow": {
     "slide_type": "slide"
    },
    "tags": []
   },
   "source": [
    "For analysis, it is very important to know whether a dynamical system is _linear_ or not. \n",
    "\n",
    "#### A linear system \n",
    "\n",
    "is a dynamical equation whose rules involve just a linear combination of state variables (a constant times a variable, a constant, or their sum).\n",
    "\n",
    "#### A non-linear system is anything else \n",
    "\n",
    "e.g., equation involving squares, cubes, radicals, trigonometric functions, etc., of state variables.\n"
   ]
  },
  {
   "cell_type": "markdown",
   "metadata": {},
   "source": [
    "---\n",
    "#### Analytical solution"
   ]
  },
  {
   "cell_type": "code",
   "execution_count": 15,
   "metadata": {},
   "outputs": [
    {
     "data": {
      "image/png": "[encoded data removed]",
      "text/plain": [
       "<Figure size 640x480 with 1 Axes>"
      ]
     },
     "metadata": {},
     "output_type": "display_data"
    }
   ],
   "source": [
    "# Parameters\n",
    "r = 0.1  # growth rate\n",
    "\n",
    "# Initialization\n",
    "x0 = 1\n",
    "t_start = 0\n",
    "t_final = 25\n",
    "dt = 1 # time step  <<< this is important\n",
    "\n",
    "t = np.arange(t_start, t_final, dt)\n",
    "x_ana = np.zeros(t_final)  # correct\n",
    "\n",
    "# compute ANALYTICAL solution\n",
    "x_ana = x0*np.exp(r*t)\n",
    "\n",
    "# visualize\n",
    "fig, ax = plt.subplots()\n",
    "ax.plot(t, x_ana)\n",
    "\n",
    "_ = ax.set_xlim([0, t_final-1])\n",
    "ax.grid()"
   ]
  },
  {
   "cell_type": "markdown",
   "metadata": {},
   "source": [
    "---\n",
    "#### Numerical solution"
   ]
  },
  {
   "cell_type": "markdown",
   "metadata": {
    "tags": []
   },
   "source": [
    "---\n",
    "##### (a) Difference equation solution"
   ]
  },
  {
   "cell_type": "code",
   "execution_count": 16,
   "metadata": {
    "tags": []
   },
   "outputs": [
    {
     "name": "stdout",
     "output_type": "stream",
     "text": [
      "Simulation length: 25\n"
     ]
    },
    {
     "data": {
      "image/png": "[encoded data removed]",
      "text/plain": [
       "<Figure size 640x480 with 1 Axes>"
      ]
     },
     "metadata": {},
     "output_type": "display_data"
    }
   ],
   "source": [
    "# Parameters (constants)\n",
    "r = 0.1  # growth rate\n",
    "\n",
    "# Initialization\n",
    "x0 = 1\n",
    "N = 25\n",
    "print('Simulation length:',N)\n",
    "\n",
    "t_dif = np.arange(N)\n",
    "x_dif = np.zeros(N)\n",
    "\n",
    "# evaluate difference equation\n",
    "x_dif[0] = x0\n",
    "for j in t_dif[1:]:\n",
    "    x_dif[j] = x_dif[j-1] + x_dif[j-1]*r\n",
    "\n",
    "# visualize\n",
    "fig, ax = plt.subplots()\n",
    "ax.plot(t, x_ana, 'r', t_dif, x_dif, '+')\n",
    "ax.legend(['Ana', 'Dif'])\n",
    "\n",
    "_ = ax.set_xlim([0, t_dif[-1]])\n",
    "ax.grid()"
   ]
  },
  {
   "cell_type": "code",
   "execution_count": 17,
   "metadata": {
    "tags": []
   },
   "outputs": [
    {
     "name": "stdout",
     "output_type": "stream",
     "text": [
      "Data:\n",
      "    0, 1.000000 , 1.000000, 0.00%\n",
      "    1, 1.105171 , 1.100000, 0.47%\n",
      "    2, 1.221403 , 1.210000, 0.93%\n",
      "    3, 1.349859 , 1.331000, 1.40%\n",
      "    4, 1.491825 , 1.464100, 1.86%\n",
      "    5, 1.648721 , 1.610510, 2.32%\n",
      "    6, 1.822119 , 1.771561, 2.77%\n",
      "    7, 2.013753 , 1.948717, 3.23%\n",
      "    8, 2.225541 , 2.143589, 3.68%\n",
      "    9, 2.459603 , 2.357948, 4.13%\n",
      "   10, 2.718282 , 2.593742, 4.58%\n",
      "   11, 3.004166 , 2.853117, 5.03%\n",
      "   12, 3.320117 , 3.138428, 5.47%\n",
      "   13, 3.669297 , 3.452271, 5.91%\n",
      "   14, 4.055200 , 3.797498, 6.35%\n",
      "   15, 4.481689 , 4.177248, 6.79%\n",
      "   16, 4.953032 , 4.594973, 7.23%\n",
      "   17, 5.473947 , 5.054470, 7.66%\n",
      "   18, 6.049647 , 5.559917, 8.10%\n",
      "   19, 6.685894 , 6.115909, 8.53%\n",
      "   20, 7.389056 , 6.727500, 8.95%\n",
      "   21, 8.166170 , 7.400250, 9.38%\n",
      "   22, 9.025013 , 8.140275, 9.80%\n",
      "   23, 9.974182 , 8.954302, 10.23%\n",
      "   24, 11.023176 , 9.849733, 10.65%\n"
     ]
    }
   ],
   "source": [
    "# Difference between analytical solution and solution computed with difference equation\n",
    "print('Data:')\n",
    "for j in range(25):\n",
    "    print(f\"{j:5d}, {x_ana[j]:2f} , {x_dif[j]:2f}, {(abs(x_ana[j]-x_dif[j])/x_ana[j])*100:.2f}%\")"
   ]
  },
  {
   "cell_type": "markdown",
   "metadata": {},
   "source": [
    "---\n",
    "##### (b) Numerical integration Solution"
   ]
  },
  {
   "cell_type": "markdown",
   "metadata": {
    "tags": []
   },
   "source": [
    "Given the following ODE:\n",
    "\n",
    "\\begin{equation}\n",
    "\\frac{dx}{dt}= rx \\quad, x(t_0) = 1\n",
    "\\end{equation}\n",
    "\n",
    "and recognizing that that the derivative $dx/dt$ is simply the rate of change of $x$ allows us to approximate the solution of the ODE as follows:\n",
    "\n",
    "\\begin{equation}\n",
    "x_{n} = (1+r)x_{n-1} \\Delta t, \\\\\n",
    "x_0 = 1\n",
    "\\end{equation}\n",
    "\n",
    "This approximation is called __Euler's method__.\n",
    "\n",
    "Solvers like ODEINT use a very sophisticated numerical solver."
   ]
  },
  {
   "cell_type": "code",
   "execution_count": 18,
   "metadata": {
    "tags": []
   },
   "outputs": [
    {
     "name": "stdout",
     "output_type": "stream",
     "text": [
      "Simulation length: 25\n"
     ]
    }
   ],
   "source": [
    "# Parameters (constants)\n",
    "r = 0.1  # growth rate\n",
    "\n",
    "# Initialization\n",
    "x0 = 1\n",
    "\n",
    "dt = 1 # integration time step\n",
    "t_final = 25\n",
    "N = int(t_final/dt)\n",
    "\n",
    "print('Simulation length:',N)\n"
   ]
  },
  {
   "cell_type": "code",
   "execution_count": 19,
   "metadata": {},
   "outputs": [
    {
     "data": {
      "image/png": "[encoded data removed]",
      "text/plain": [
       "<Figure size 640x480 with 1 Axes>"
      ]
     },
     "metadata": {},
     "output_type": "display_data"
    }
   ],
   "source": [
    "t_num = np.arange(0, t_final, dt)\n",
    "x_num = np.zeros(N)\n",
    "\n",
    "# compute numerical solution x_num\n",
    "x_num[0] = x0\n",
    "for j in t_num[1:]:\n",
    "    x_num[j] = x_num[j-1] + x_num[j-1]*r*dt\n",
    "    \n",
    "# visualize\n",
    "fig, ax = plt.subplots()\n",
    "ax.plot(t, x_ana, 'r', t_dif, x_dif, 'b+', t_num, x_num, 'k')\n",
    "ax.grid()\n",
    "ax.legend(['Ana', 'Dif', 'Num'])\n",
    "_ = ax.set_xlim([0, t[-1]])\n"
   ]
  },
  {
   "cell_type": "markdown",
   "metadata": {},
   "source": [
    "__Why are the difference equation solutions and discretized solutions \"identical\"?__"
   ]
  },
  {
   "cell_type": "code",
   "execution_count": 20,
   "metadata": {
    "tags": []
   },
   "outputs": [
    {
     "name": "stdout",
     "output_type": "stream",
     "text": [
      "Data:\n",
      "    0, 1.000000 , 1.000000, 0.00%\n",
      "    1, 1.105171 , 1.100000, 0.47%\n",
      "    2, 1.221403 , 1.210000, 0.93%\n",
      "    3, 1.349859 , 1.331000, 1.40%\n",
      "    4, 1.491825 , 1.464100, 1.86%\n",
      "    5, 1.648721 , 1.610510, 2.32%\n",
      "    6, 1.822119 , 1.771561, 2.77%\n",
      "    7, 2.013753 , 1.948717, 3.23%\n",
      "    8, 2.225541 , 2.143589, 3.68%\n",
      "    9, 2.459603 , 2.357948, 4.13%\n",
      "   10, 2.718282 , 2.593742, 4.58%\n",
      "   11, 3.004166 , 2.853117, 5.03%\n",
      "   12, 3.320117 , 3.138428, 5.47%\n",
      "   13, 3.669297 , 3.452271, 5.91%\n",
      "   14, 4.055200 , 3.797498, 6.35%\n",
      "   15, 4.481689 , 4.177248, 6.79%\n",
      "   16, 4.953032 , 4.594973, 7.23%\n",
      "   17, 5.473947 , 5.054470, 7.66%\n",
      "   18, 6.049647 , 5.559917, 8.10%\n",
      "   19, 6.685894 , 6.115909, 8.53%\n",
      "   20, 7.389056 , 6.727500, 8.95%\n",
      "   21, 8.166170 , 7.400250, 9.38%\n",
      "   22, 9.025013 , 8.140275, 9.80%\n",
      "   23, 9.974182 , 8.954302, 10.23%\n",
      "   24, 11.023176 , 9.849733, 10.65%\n"
     ]
    }
   ],
   "source": [
    "# Difference between analytical solution and solution computed with difference equation\n",
    "print('Data:')\n",
    "for j in range(25):\n",
    "    j_num = int(j/dt)\n",
    "    print(f\"{j:5d}, {x_ana[j]:.6f} , {x_num[j_num]:.6f}, {(abs(x_ana[j]-x_num[j_num])/x_ana[j])*100:.2f}%\")"
   ]
  },
  {
   "cell_type": "markdown",
   "metadata": {
    "tags": []
   },
   "source": [
    "---\n",
    "##### (c) Using a Solver"
   ]
  },
  {
   "cell_type": "markdown",
   "metadata": {
    "tags": []
   },
   "source": [
    "Given a simple model (ODE) it is possible we can get an analytical solution and then we are done.\n",
    "\n",
    "It's not that easy in real life.\n",
    "\n",
    "* Generally, we use ODE _solvers_.\n",
    "    * _scipy.integrate_: ode(), odeint()\n",
    "* Sometime we need to write the solver -> requires that we derive a discrete version of the ODE and then simulate it."
   ]
  },
  {
   "cell_type": "code",
   "execution_count": 21,
   "metadata": {
    "tags": []
   },
   "outputs": [],
   "source": [
    "from scipy.integrate import odeint"
   ]
  },
  {
   "cell_type": "code",
   "execution_count": 22,
   "metadata": {
    "tags": []
   },
   "outputs": [],
   "source": [
    "# Parameters\n",
    "r = 0.1 # or r = -0.1 (decay)\n",
    "\n",
    "# Initialization\n",
    "x0 = 1\n",
    "t_start = 0\n",
    "t_final = 25\n",
    "dt = 1\n",
    "\n",
    "t = np.arange(t_start, t_final, dt)\n",
    "\n"
   ]
  },
  {
   "cell_type": "markdown",
   "metadata": {},
   "source": [
    "Using ODEINT (see below):\n",
    "\n",
    "* The first parameter in odeint is the model-funcion.\n",
    "* The second parameter is the initial values of the state variable x, that is x0.\n",
    "* The third parameter is the time array t.\n",
    "* The fourth parameter, args=(p,) is a list of necessary parameters in the model function.\n",
    "    * Right now, there are none, but $r$ could be it.\n",
    "* The two last parameters are error-tolerances in solving the differential equations (not used in CDS230)"
   ]
  },
  {
   "cell_type": "code",
   "execution_count": 23,
   "metadata": {},
   "outputs": [],
   "source": [
    "# compute solution using SciPy ODEINT package\n",
    "def exp_model(y, t):\n",
    "    r = 0.1\n",
    "    dxdt = r*y\n",
    "    return dxdt\n",
    "\n",
    "x_scipy = odeint(exp_model, x0, t)"
   ]
  },
  {
   "cell_type": "code",
   "execution_count": 24,
   "metadata": {},
   "outputs": [
    {
     "data": {
      "image/png": "[encoded data removed]",
      "text/plain": [
       "<Figure size 640x480 with 1 Axes>"
      ]
     },
     "metadata": {},
     "output_type": "display_data"
    }
   ],
   "source": [
    "# visualize\n",
    "fig, ax = plt.subplots()\n",
    "ax.plot(t, x_ana, 'r', t, x_scipy, 'k*')\n",
    "ax.grid()\n",
    "ax.legend(['Ana', 'Scipy'])\n",
    "_ = ax.set_xlim([0, t_final-1])"
   ]
  },
  {
   "cell_type": "code",
   "execution_count": 25,
   "metadata": {},
   "outputs": [
    {
     "name": "stdout",
     "output_type": "stream",
     "text": [
      "Data:\n",
      "    0, 1.00 , 1.00, 0.00%\n",
      "    1, 1.11 , 1.11, 0.00%\n",
      "    2, 1.22 , 1.22, 0.00%\n",
      "    3, 1.35 , 1.35, 0.00%\n",
      "    4, 1.49 , 1.49, 0.00%\n",
      "    5, 1.65 , 1.65, 0.00%\n",
      "    6, 1.82 , 1.82, 0.00%\n",
      "    7, 2.01 , 2.01, 0.00%\n",
      "    8, 2.23 , 2.23, 0.00%\n",
      "    9, 2.46 , 2.46, 0.00%\n",
      "   10, 2.72 , 2.72, 0.00%\n",
      "   11, 3.00 , 3.00, 0.00%\n",
      "   12, 3.32 , 3.32, 0.00%\n",
      "   13, 3.67 , 3.67, 0.00%\n",
      "   14, 4.06 , 4.06, 0.00%\n",
      "   15, 4.48 , 4.48, 0.00%\n",
      "   16, 4.95 , 4.95, 0.00%\n",
      "   17, 5.47 , 5.47, 0.00%\n",
      "   18, 6.05 , 6.05, 0.00%\n",
      "   19, 6.69 , 6.69, 0.00%\n",
      "   20, 7.39 , 7.39, 0.00%\n",
      "   21, 8.17 , 8.17, 0.00%\n",
      "   22, 9.03 , 9.03, 0.00%\n",
      "   23, 9.97 , 9.97, 0.00%\n",
      "   24, 11.02 , 11.02, 0.00%\n"
     ]
    }
   ],
   "source": [
    "# Difference between analytical solution and solution computed with scipy\n",
    "print('Data:')\n",
    "for j in range(25):\n",
    "    print(f\"{j:5d}, {x_ana[j]:.2f} , {x_scipy[j][0]:.2f}, {(abs(x_ana[j]-x_scipy[j][0])/x_ana[j])*100:.2f}%\")"
   ]
  },
  {
   "cell_type": "markdown",
   "metadata": {},
   "source": [
    "__Why are the analyic solutions and SCIpy solutions \"identical\"?__"
   ]
  }
 ],
 "metadata": {
  "kernelspec": {
   "display_name": "Python 3",
   "language": "python",
   "name": "python3"
  },
  "language_info": {
   "codemirror_mode": {
    "name": "ipython",
    "version": 3
   },
   "file_extension": ".py",
   "mimetype": "text/x-python",
   "name": "python",
   "nbconvert_exporter": "python",
   "pygments_lexer": "ipython3",
   "version": "3.12.5"
  },
  "widgets": {
   "application/vnd.jupyter.widget-state+json": {
    "state": {},
    "version_major": 2,
    "version_minor": 0
   }
  }
 },
 "nbformat": 4,
 "nbformat_minor": 4
}
