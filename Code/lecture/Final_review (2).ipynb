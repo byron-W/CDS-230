{
 "cells": [
  {
   "cell_type": "markdown",
   "id": "d5dac27d",
   "metadata": {
    "tags": []
   },
   "source": [
    "# Final exam review"
   ]
  },
  {
   "cell_type": "markdown",
   "id": "fedc2e41-1d5e-4cf3-a55d-f5fad8ae3f20",
   "metadata": {
    "slideshow": {
     "slide_type": "slide"
    }
   },
   "source": [
    "* Python\n",
    "* Modeling and Simulation"
   ]
  },
  {
   "cell_type": "markdown",
   "id": "4124dc92-2b7b-42f9-a460-ff871296689e",
   "metadata": {
    "slideshow": {
     "slide_type": "slide"
    },
    "tags": []
   },
   "source": [
    "### Python tools\n",
    "* Basic concepts and definitions\n",
    "* Python math\n",
    "* Data types and data structures\n",
    "* Control flow\n",
    "* Functions and modules\n",
    "* Numpy and Matplotlib\n",
    "* File IO\n",
    "* Object oriented programming"
   ]
  },
  {
   "cell_type": "markdown",
   "id": "d8c91a38-3799-409a-8986-0d4353ad82df",
   "metadata": {
    "slideshow": {
     "slide_type": "slide"
    },
    "tags": []
   },
   "source": [
    "### Modeling and Simulation\n",
    "* Basic concepts and definitions\n",
    "* Simple dynamical systems. Solve `ODE` numerically:\n",
    "\n",
    "\n",
    "\\begin{equation}\n",
    "\\frac{dy}{dt} = f(t)\n",
    "\\end{equation}\n",
    "\n",
    "* Random numbers\n",
    "* Monte Carlo methods. Solve `integral` numerically:\n",
    "\n",
    "\n",
    "\\begin{equation}\n",
    "y = \\int_a^b f(x)dx\n",
    "\\end{equation}\n",
    "\n",
    "* Machine learning\n"
   ]
  },
  {
   "cell_type": "markdown",
   "id": "ef39eff0-c6d5-4dff-9823-aac65921d69d",
   "metadata": {
    "tags": []
   },
   "source": [
    "### Modules"
   ]
  },
  {
   "cell_type": "code",
   "execution_count": null,
   "id": "648ddf39-31ca-46c2-b707-cbaa07b0dad3",
   "metadata": {},
   "outputs": [],
   "source": [
    "import math # modules are python files that you can import\n",
    "import os\n",
    "import numpy as np   # Numpy\n",
    "import matplotlib.pyplot as plt # Matplotlib"
   ]
  },
  {
   "cell_type": "markdown",
   "id": "475222a4-0700-4a0c-ac7f-96d2be2c5883",
   "metadata": {
    "tags": []
   },
   "source": [
    "### Variables"
   ]
  },
  {
   "cell_type": "code",
   "execution_count": null,
   "id": "19867d45-2166-4407-8dba-f25d7efcb3f9",
   "metadata": {},
   "outputs": [],
   "source": [
    "# are names used to hold data - are objects\n",
    "# unique IDs and a type\n",
    "\n",
    "a = 1 # int\n",
    "x = 2.0 # float\n",
    "s = \"hello\" # str, can also use single quotes and triple quotes\n",
    "y = True # False"
   ]
  },
  {
   "cell_type": "markdown",
   "id": "3e147e61-c66d-45c8-a01c-4a3283ec98b3",
   "metadata": {},
   "source": [
    "### Data structures"
   ]
  },
  {
   "cell_type": "code",
   "execution_count": null,
   "id": "f30f3742-a871-4c9c-a2f5-318166da44f3",
   "metadata": {},
   "outputs": [],
   "source": [
    "# list, tuple, dict, set\n",
    "a_list = []  # are basic array representations, can be multiple dimensions  list()\n",
    "a_tuple = ()  # tuple()\n",
    "a_dict = {'a':1, 'b':2}  # dict()\n",
    "a_set = {1, 2}  # set()"
   ]
  },
  {
   "cell_type": "code",
   "execution_count": 13,
   "id": "a84f4be3-619a-49d0-abdd-c50beb2b5e20",
   "metadata": {},
   "outputs": [
    {
     "ename": "TypeError",
     "evalue": "len() takes exactly one argument (0 given)",
     "output_type": "error",
     "traceback": [
      "\u001b[1;31m---------------------------------------------------------------------------\u001b[0m",
      "\u001b[1;31mTypeError\u001b[0m                                 Traceback (most recent call last)",
      "Cell \u001b[1;32mIn[13], line 1\u001b[0m\n\u001b[1;32m----> 1\u001b[0m \u001b[38;5;28;43mlen\u001b[39;49m\u001b[43m(\u001b[49m\u001b[43m)\u001b[49m \u001b[38;5;66;03m# any sequence\u001b[39;00m\n\u001b[0;32m      2\u001b[0m \u001b[38;5;28msum\u001b[39m() \u001b[38;5;66;03m# adds alements in a sequence\u001b[39;00m\n",
      "\u001b[1;31mTypeError\u001b[0m: len() takes exactly one argument (0 given)"
     ]
    }
   ],
   "source": [
    "len() # any sequence\n",
    "sum() # adds alements in a sequence"
   ]
  },
  {
   "cell_type": "markdown",
   "id": "9ecf64fa",
   "metadata": {},
   "source": [
    "### Loops and conditionals"
   ]
  },
  {
   "cell_type": "code",
   "execution_count": 21,
   "id": "626e1349-c5a9-4913-9e5d-7642be10946c",
   "metadata": {},
   "outputs": [
    {
     "ename": "IndentationError",
     "evalue": "expected an indented block after 'if' statement on line 2 (3041444496.py, line 4)",
     "output_type": "error",
     "traceback": [
      "\u001b[1;36m  Cell \u001b[1;32mIn[21], line 4\u001b[1;36m\u001b[0m\n\u001b[1;33m    else:\u001b[0m\n\u001b[1;37m    ^\u001b[0m\n\u001b[1;31mIndentationError\u001b[0m\u001b[1;31m:\u001b[0m expected an indented block after 'if' statement on line 2\n"
     ]
    }
   ],
   "source": [
    "a = 11\n",
    "if a < 10:\n",
    "    # if True, do something\n",
    "else:\n",
    "    # default"
   ]
  },
  {
   "cell_type": "code",
   "execution_count": null,
   "id": "0fce267b",
   "metadata": {},
   "outputs": [
    {
     "name": "stdout",
     "output_type": "stream",
     "text": [
      "h\n",
      "e\n",
      "l\n",
      "l\n",
      "o\n"
     ]
    }
   ],
   "source": [
    "for i in s: # iterable, definite\n",
    "    print(i) # indentation is a part of the language syntax\n",
    "\n",
    "while True:\n",
    "    # iterate until a condition becomes False\n",
    "    \n"
   ]
  },
  {
   "cell_type": "markdown",
   "id": "2de5205a-ab7c-437b-a2f3-c5e4fb32e060",
   "metadata": {},
   "source": [
    "### File IO"
   ]
  },
  {
   "cell_type": "code",
   "execution_count": null,
   "id": "b71d6bad-dd3f-4628-b2fa-943e538c1de2",
   "metadata": {},
   "outputs": [],
   "source": [
    "with open ('some_file.txt', 'w') as f:\n",
    "    # read file\n",
    "    \n"
   ]
  },
  {
   "cell_type": "markdown",
   "id": "bc3a6862",
   "metadata": {},
   "source": [
    "### Functions"
   ]
  },
  {
   "cell_type": "code",
   "execution_count": null,
   "id": "e5b9fe4a",
   "metadata": {},
   "outputs": [],
   "source": [
    "def some_func():\n",
    "    # body of function\n",
    "    return something"
   ]
  },
  {
   "cell_type": "markdown",
   "id": "37a3c041-3dad-4833-b356-da634f030e2e",
   "metadata": {},
   "source": [
    "### Basic Numpy"
   ]
  },
  {
   "cell_type": "code",
   "execution_count": null,
   "id": "0646e656",
   "metadata": {},
   "outputs": [
    {
     "data": {
      "text/plain": [
       "numpy.ndarray"
      ]
     },
     "execution_count": 4,
     "metadata": {},
     "output_type": "execute_result"
    }
   ],
   "source": [
    "# Most important data structure in Numpy is ndarray\n",
    "a = np.array([1,2,3])\n",
    "type(a)"
   ]
  },
  {
   "cell_type": "code",
   "execution_count": null,
   "id": "c627ed66-cdea-4ef2-8688-bbacb7746771",
   "metadata": {},
   "outputs": [
    {
     "data": {
      "text/plain": [
       "array([4, 5, 6])"
      ]
     },
     "execution_count": 7,
     "metadata": {},
     "output_type": "execute_result"
    }
   ],
   "source": [
    "# Most important data structure in Numpy is ndarray\n",
    "A = np.array([[1,2,3],[4,5,6]])\n",
    "A[1,:]"
   ]
  },
  {
   "cell_type": "code",
   "execution_count": 5,
   "id": "b462e198-9088-4397-80dd-303031af47be",
   "metadata": {},
   "outputs": [
    {
     "data": {
      "text/plain": [
       "6"
      ]
     },
     "execution_count": 5,
     "metadata": {},
     "output_type": "execute_result"
    }
   ],
   "source": [
    "# 0d arrays - scalar\n",
    "# 1d arrays - vectors\n",
    "# 2d arrays - matrices"
   ]
  },
  {
   "cell_type": "markdown",
   "id": "5bb10340-7388-4459-8ac1-a61c78bb82cc",
   "metadata": {},
   "source": [
    "### Basic Matplotlib"
   ]
  },
  {
   "cell_type": "code",
   "execution_count": 12,
   "id": "13ee7c25-e109-4908-98ee-3b2c7a5fc878",
   "metadata": {
    "tags": []
   },
   "outputs": [
    {
     "data": {
      "image/png": "[encoded data removed]",
      "text/plain": [
       "<Figure size 432x288 with 2 Axes>"
      ]
     },
     "metadata": {
      "needs_background": "light"
     },
     "output_type": "display_data"
    }
   ],
   "source": [
    "fig, ax = plt.subplots(1,2)\n",
    "ax[0].plot(A[0:,])\n",
    "_ = ax[1].plot(A[1:,])"
   ]
  },
  {
   "cell_type": "markdown",
   "id": "712da12b-45bd-49c1-9752-d201ee06e490",
   "metadata": {},
   "source": [
    "### OOP"
   ]
  },
  {
   "cell_type": "code",
   "execution_count": 14,
   "id": "966f9545-acee-4236-bf9e-5a11ca14ad73",
   "metadata": {
    "tags": []
   },
   "outputs": [
    {
     "data": {
      "text/plain": [
       "__main__.Foo"
      ]
     },
     "execution_count": 14,
     "metadata": {},
     "output_type": "execute_result"
    }
   ],
   "source": [
    "class Foo():\n",
    "    def __init__(self):\n",
    "        pass\n",
    "\n",
    "foo = Foo()\n",
    "type(foo)"
   ]
  },
  {
   "cell_type": "markdown",
   "id": "9c190b5b-5559-4fe6-9a6e-71242e351d06",
   "metadata": {
    "tags": []
   },
   "source": [
    "### General Concepts\n",
    "\n",
    "*To see answers, highlight the text in the \"blank\" cell*"
   ]
  },
  {
   "cell_type": "markdown",
   "id": "8d1e7783-1b65-4661-bf19-7254c171f796",
   "metadata": {},
   "source": [
    "<b>1. What does \"mutable\" mean? Give three examples of data types that are mutable. </b> (N.B. Common data types include int, list, tuple, dict, set, string, float)."
   ]
  },
  {
   "cell_type": "markdown",
   "id": "93d06c04-9c63-4d72-b91e-99991ae90387",
   "metadata": {
    "tags": []
   },
   "source": [
    " <font color='white'>Mutable means that it \"can be changed\". Container types like list, dict and set are mutable, whereas int, tuple, string and float are not.</font>"
   ]
  },
  {
   "cell_type": "markdown",
   "id": "b1708db4-611e-4e4a-b6c7-c53a2f41c1dd",
   "metadata": {},
   "source": [
    "<b>2. Describe the three numeric data types in Python</b>"
   ]
  },
  {
   "cell_type": "markdown",
   "id": "2b16d73b-47fc-4990-9090-96d15d95460f",
   "metadata": {
    "tags": []
   },
   "source": [
    "<font color='white'>The three numeric types are int, float and complex. int is an integer, a whole number, that is, any finite member of the set  ℤ . float is a floating-point number: a representation of a member of the reals  ℝ  with a finite precision for its mantissa and exponent. complex is a representation of a complex number in  ℂ : it can be thought of as a pair of floats, representing its real and imaginary parts.</font>"
   ]
  },
  {
   "cell_type": "markdown",
   "id": "0a2b331c-7c78-4741-a2e4-17e58db02d8b",
   "metadata": {},
   "source": [
    "<b>3. Describe two key differences between lists and arrays. (More specifically, between the <code>list</code> and <code>ndarray</code> types)."
   ]
  },
  {
   "cell_type": "markdown",
   "id": "2d0af1f1-b114-4a79-9f02-d064d672c1dd",
   "metadata": {
    "tags": []
   },
   "source": [
    "<font color='white'>\n",
    "    Some differences between lists and arrays include the following:\n",
    "\n",
    "* Arrays are homogeneous, whereas lists are heterogeneous. In other words, all elements of an array must have the same data type, whereas elements of arrays may have different data types.\n",
    "* Arrays are typically fixed in size, whereas lists can be lengthened or shortened.\n",
    "* Arrays are typically contiguous chunks of memory, whereas lists are not.\n",
    "* Arrays may be operated on with functions that operate on a whole array in an efficient manner. This enables vectorizaton. Such functions are not available for lists.\n",
    "* Arrays can be multi-dimensional, whereas lists are one-dimensional (though lists-of-lists can be used to mimic multi-dimensional structures).</font>"
   ]
  },
  {
   "cell_type": "markdown",
   "id": "77c2d493-bc5e-493f-86a7-6174b339318d",
   "metadata": {},
   "source": [
    "<b>4. What is \"vectorization\"? Explain with an example.</b>"
   ]
  },
  {
   "cell_type": "markdown",
   "id": "b19fd63d-5dcc-4ea9-8bd1-7d9137a996c7",
   "metadata": {
    "tags": []
   },
   "source": [
    "<font color='white'>Vectorization is the practice of replacing for loops with array expressions, so that batch operations are implemented efficiently in a fast compiled language such as C. For example, suppose I wanted to apply \"sin\" to every element in an array A. I could do this by looping over the array, and applying math.sin to each element in turn. A better, vectorized way to do this is by applying sin() to the entire array: np.sin(A).</font>"
   ]
  },
  {
   "cell_type": "markdown",
   "id": "7262d939-3397-40aa-88d6-6c69bc14d943",
   "metadata": {},
   "source": [
    "<b>5. Calculate the following sum:</b> $$\\sum_{n=1}^{1000} \\frac{1}{n^2} = 1 + \\frac{1}{4} + \\frac{1}{9} + \\ldots + \\frac{1}{10^{6}}$$\n",
    "\n",
    "It turns out that such a sum approaches $\\frac{\\pi^2}{6}$ as $n \\rightarrow \\infty$"
   ]
  },
  {
   "cell_type": "code",
   "execution_count": 39,
   "id": "7ce5a765-5b20-400d-b71a-cd3efd58c3f9",
   "metadata": {
    "tags": []
   },
   "outputs": [
    {
     "name": "stdout",
     "output_type": "stream",
     "text": [
      "1.6439345666815601\n"
     ]
    }
   ],
   "source": [
    "# One-line solution\n",
    "print( (1/np.arange(1,1001)**2).sum() )\n",
    "\n",
    "# You can, of course use a loop."
   ]
  },
  {
   "cell_type": "markdown",
   "id": "efd41f4e-bb2d-4e63-868e-ba6930ef8068",
   "metadata": {
    "tags": []
   },
   "source": [
    "<b>6. The Euler-Mascheroni constant $\\gamma$ is defined by</b>\n",
    "$$\n",
    "\\gamma = \\lim_{n \\rightarrow \\infty} \\left(-\\ln(n) + \\sum_{k=1}^n \\frac{1}{k} \\right)\n",
    "$$\n",
    "<b>Write a function that takes $n$ as an argument and use it to calculate $\\gamma$ an accuracy of 5 decimal places.</b>"
   ]
  },
  {
   "cell_type": "code",
   "execution_count": 38,
   "id": "6a857deb-4158-4d57-897a-b653c2b5b9d7",
   "metadata": {
    "tags": []
   },
   "outputs": [
    {
     "name": "stdout",
     "output_type": "stream",
     "text": [
      "Approx value  0.58221\n",
      "True value is 0.5772156649\n"
     ]
    }
   ],
   "source": [
    "# code here\n",
    "def euler_masch(n):\n",
    "    return -np.log(n) + (1/np.arange(1,n+1)).sum()\n",
    "\n",
    "# test code with n=100 and increase until \n",
    "# desired accuracy is achieved (may want to use a while loop)\n",
    "\n",
    "print(f\"Approx value  {euler_masch(n=100):.5f}\")\n",
    "\n",
    "print(\"True value is 0.5772156649\")  "
   ]
  },
  {
   "cell_type": "markdown",
   "id": "d79cf769-0873-4fcd-a961-c500f38af1e6",
   "metadata": {
    "tags": []
   },
   "source": [
    "Reference: https://www.wikiwand.com/en/Euler%E2%80%93Mascheroni_constant"
   ]
  },
  {
   "cell_type": "markdown",
   "id": "0d99bee1",
   "metadata": {},
   "source": [
    "### Dynamical systems\n",
    "\n",
    "Example:\n",
    "\n",
    "\\begin{equation}\n",
    "\\frac{dy}{dt} = y\n",
    "\\end{equation}\n",
    "\n",
    "with $y(0)=y_0$"
   ]
  },
  {
   "cell_type": "code",
   "execution_count": 1,
   "id": "70f8623d",
   "metadata": {
    "tags": []
   },
   "outputs": [
    {
     "ename": "NameError",
     "evalue": "name 'np' is not defined",
     "output_type": "error",
     "traceback": [
      "\u001b[1;31m---------------------------------------------------------------------------\u001b[0m",
      "\u001b[1;31mNameError\u001b[0m                                 Traceback (most recent call last)",
      "Cell \u001b[1;32mIn[1], line 7\u001b[0m\n\u001b[0;32m      4\u001b[0m     \u001b[38;5;28;01mreturn\u001b[39;00m y\n\u001b[0;32m      6\u001b[0m y0 \u001b[38;5;241m=\u001b[39m \u001b[38;5;241m1.0\u001b[39m\n\u001b[1;32m----> 7\u001b[0m t \u001b[38;5;241m=\u001b[39m \u001b[43mnp\u001b[49m\u001b[38;5;241m.\u001b[39mlinspace(\u001b[38;5;241m0\u001b[39m,\u001b[38;5;241m3\u001b[39m,\u001b[38;5;241m100\u001b[39m)\n\u001b[0;32m      9\u001b[0m y \u001b[38;5;241m=\u001b[39m odeint(dy_dt, y0, t)\n\u001b[0;32m     11\u001b[0m plt\u001b[38;5;241m.\u001b[39mplot(y[:,\u001b[38;5;241m0\u001b[39m])\n",
      "\u001b[1;31mNameError\u001b[0m: name 'np' is not defined"
     ]
    }
   ],
   "source": [
    "from scipy.integrate import odeint\n",
    "\n",
    "def dy_dt(y, t):\n",
    "    return y\n",
    "\n",
    "y0 = 1.0\n",
    "t = np.linspace(0,3,100)\n",
    "\n",
    "y = odeint(dy_dt, y0, t)\n",
    "\n",
    "plt.plot(y[:,0])"
   ]
  },
  {
   "cell_type": "markdown",
   "id": "c00a911e",
   "metadata": {},
   "source": [
    "### Random numbers"
   ]
  },
  {
   "cell_type": "code",
   "execution_count": 33,
   "id": "e8a1c1c9",
   "metadata": {
    "tags": []
   },
   "outputs": [
    {
     "data": {
      "text/plain": [
       "array([10,  2,  1,  2,  9,  2, 10,  5, 10,  8])"
      ]
     },
     "execution_count": 33,
     "metadata": {},
     "output_type": "execute_result"
    }
   ],
   "source": [
    "rand_ints = np.random.randint(1, 10, size=10)\n",
    "rand_ints"
   ]
  },
  {
   "cell_type": "code",
   "execution_count": 34,
   "id": "0bb30b91-6571-4e67-9670-55fb53245e3f",
   "metadata": {
    "tags": []
   },
   "outputs": [
    {
     "data": {
      "text/plain": [
       "array([27.13440256, 16.43894146, 22.5894234 , 33.22508483, 15.908137  ,\n",
       "       12.4737675 , 17.13582183, 17.08615492, 13.95846528, 14.95606565])"
      ]
     },
     "execution_count": 34,
     "metadata": {},
     "output_type": "execute_result"
    }
   ],
   "source": [
    "rand_normal = np.random.normal(loc=20, scale=10, size=10)\n",
    "rand_normal"
   ]
  },
  {
   "cell_type": "markdown",
   "id": "ee90a479-7848-4c47-8a35-a7744ccff392",
   "metadata": {},
   "source": [
    "### Monte Carlo Methods"
   ]
  },
  {
   "cell_type": "code",
   "execution_count": 35,
   "id": "60ca3ab2",
   "metadata": {
    "tags": []
   },
   "outputs": [],
   "source": [
    "def inside_circle():\n",
    "    x = np.random.uniform(-1,1) \n",
    "    y = np.random.uniform(-1,1) \n",
    "    length = np.sqrt(x ** 2 + y ** 2)\n",
    "    \n",
    "    return length < 1"
   ]
  },
  {
   "cell_type": "code",
   "execution_count": 36,
   "id": "cafb918f-3b3a-4911-bafc-a0a5f1211e5b",
   "metadata": {
    "tags": []
   },
   "outputs": [
    {
     "name": "stdout",
     "output_type": "stream",
     "text": [
      "3.0912\n"
     ]
    }
   ],
   "source": [
    "result_inside = 0\n",
    "for i in range(10000):\n",
    "    result = inside_circle()\n",
    "    \n",
    "    if result == True:\n",
    "        result_inside += 1\n",
    "        \n",
    "print(4*(result_inside/10000))"
   ]
  },
  {
   "cell_type": "code",
   "execution_count": null,
   "id": "a49fcb06-17c1-4f2e-81b1-ec6f98dc8a58",
   "metadata": {},
   "outputs": [],
   "source": []
  },
  {
   "cell_type": "markdown",
   "id": "0a399381-4bc8-446d-a959-dca1797ff6d5",
   "metadata": {},
   "source": [
    "### Machine learning"
   ]
  },
  {
   "cell_type": "code",
   "execution_count": null,
   "id": "6b477159-6285-4021-9069-7f145cde7059",
   "metadata": {},
   "outputs": [],
   "source": []
  },
  {
   "cell_type": "markdown",
   "id": "7b681937-5a9f-4e35-9d6b-b62a9567a943",
   "metadata": {},
   "source": [
    "### Extra credit"
   ]
  },
  {
   "cell_type": "code",
   "execution_count": null,
   "id": "865ff4d0-6284-4f68-ad56-8701c702f044",
   "metadata": {},
   "outputs": [],
   "source": []
  },
  {
   "cell_type": "markdown",
   "id": "54585979-373a-48fc-ad66-4f00f687046d",
   "metadata": {},
   "source": [
    "#### Problem solving approach\n",
    "\n",
    "* Start by writing down inputs/outputs\n",
    "    * What are the specific data types used?\n",
    "* Write down high-level goal in your own words\n",
    "    * Brainstorm how to accomplish goal\n",
    "        * Break ideas into subpieces\n",
    "        * Code subpieces"
   ]
  },
  {
   "cell_type": "code",
   "execution_count": null,
   "id": "440d079d-ed7e-400d-ab5c-b0573e852e04",
   "metadata": {},
   "outputs": [],
   "source": []
  }
 ],
 "metadata": {
  "kernelspec": {
   "display_name": "Python 3",
   "language": "python",
   "name": "python3"
  },
  "language_info": {
   "codemirror_mode": {
    "name": "ipython",
    "version": 3
   },
   "file_extension": ".py",
   "mimetype": "text/x-python",
   "name": "python",
   "nbconvert_exporter": "python",
   "pygments_lexer": "ipython3",
   "version": "3.12.5"
  }
 },
 "nbformat": 4,
 "nbformat_minor": 5
}
