{
 "cells": [
  {
   "cell_type": "markdown",
   "metadata": {},
   "source": [
    "# Homework 4"
   ]
  },
  {
   "cell_type": "markdown",
   "metadata": {},
   "source": [
    "- Student name: Byron Washington\n",
    "- Email: bwashin8@gmu.edu\n",
    "- G-number: 01236996"
   ]
  },
  {
   "cell_type": "markdown",
   "metadata": {},
   "source": [
    "## Imported packages"
   ]
  },
  {
   "cell_type": "code",
   "execution_count": 11,
   "metadata": {},
   "outputs": [],
   "source": [
    "import math"
   ]
  },
  {
   "cell_type": "markdown",
   "metadata": {},
   "source": [
    "## Question 1"
   ]
  },
  {
   "cell_type": "code",
   "execution_count": 12,
   "metadata": {},
   "outputs": [
    {
     "name": "stdout",
     "output_type": "stream",
     "text": [
      "**********\n",
      " *********\n",
      "  ********\n",
      "   *******\n",
      "    ******\n",
      "     *****\n",
      "      ****\n",
      "       ***\n",
      "        **\n",
      "         *\n",
      "\n"
     ]
    }
   ],
   "source": [
    "num_of_character = 10\n",
    "character_to_print = \"*\"\n",
    "str = \"\"\n",
    "for i in range(num_of_character):\n",
    "\tfor j in range(i):\n",
    "\t\tstr += \" \"\n",
    "\tfor k in range(num_of_character - i):\n",
    "\t\tstr += character_to_print\n",
    "\tstr += \"\\n\"\n",
    "print(str)"
   ]
  },
  {
   "cell_type": "markdown",
   "metadata": {},
   "source": [
    "---"
   ]
  },
  {
   "cell_type": "markdown",
   "metadata": {},
   "source": [
    "## Question 2"
   ]
  },
  {
   "cell_type": "code",
   "execution_count": 13,
   "metadata": {},
   "outputs": [
    {
     "name": "stdout",
     "output_type": "stream",
     "text": [
      "[77, 77, 77, 76, 76, 76, 76, 75, 75, 74, 75, 75, 75, 75, 75]\n"
     ]
    }
   ],
   "source": [
    "known_temp = [80, 87, 86, 92, 78, 78, 83, 81, 68, 85, 93, 94, 75, 79, 85, 78, 72, 71, 88, 78, 82, 62]\n",
    "for i in range(15):\n",
    "\tnew_val = 0\n",
    "\tfor j in known_temp[-10:]:\n",
    "\t\tnew_val += j\n",
    "\tnew_val /= 10\n",
    "\tknown_temp.append(int(new_val))\n",
    "print(known_temp[-15:])"
   ]
  },
  {
   "cell_type": "markdown",
   "metadata": {},
   "source": [
    "---"
   ]
  },
  {
   "cell_type": "markdown",
   "metadata": {},
   "source": [
    "## Question 3"
   ]
  },
  {
   "cell_type": "code",
   "execution_count": 14,
   "metadata": {},
   "outputs": [
    {
     "name": "stdout",
     "output_type": "stream",
     "text": [
      "[-4, -12, -11, -2, -7, -16, -14, 4, 8, 4, 6, 6, 6, 6, 5]\n"
     ]
    }
   ],
   "source": [
    "predicted = [77, 77, 77, 76, 76, 76, 76, 75, 75, 74, 75, 75, 75, 75, 75]\n",
    "real = [81, 89, 88, 78, 83, 92, 90, 71, 67, 70, 69, 69, 69, 69, 70]\n",
    "difference = []\n",
    "for i in range(15):\n",
    "    difference.append(predicted[i] - real[i])\n",
    "print(difference)"
   ]
  },
  {
   "cell_type": "markdown",
   "metadata": {},
   "source": [
    "My model was close some days and pretty far off on some others. Overall I wouldn't say this model is practical."
   ]
  },
  {
   "cell_type": "markdown",
   "metadata": {},
   "source": [
    "---"
   ]
  },
  {
   "cell_type": "markdown",
   "metadata": {},
   "source": [
    "## Question 4"
   ]
  },
  {
   "cell_type": "code",
   "execution_count": 15,
   "metadata": {},
   "outputs": [
    {
     "name": "stdout",
     "output_type": "stream",
     "text": [
      "59.07944569982845\n"
     ]
    }
   ],
   "source": [
    "loc_1 = (38.778981, -77.083358)\n",
    "loc_2 = (38.288876, -77.345637) \n",
    "r = 6371\n",
    "loc_1_lat = math.radians(loc_1[0])\n",
    "loc_2_lat = math.radians(loc_2[0])\n",
    "loc_1_lon = math.radians(loc_1[1])\n",
    "loc_2_lon = math.radians(loc_2[1])\n",
    "\n",
    "first = math.sin((loc_2_lat - loc_1_lat)/2)**2\n",
    "second = math.cos(loc_2_lat) * math.cos(loc_1_lat) * (math.sin((loc_2_lon - loc_1_lon) / 2)** 2)\n",
    "in_sqrt = math.sqrt(first + second)\n",
    "\n",
    "print(2 * r * math.asin(in_sqrt))"
   ]
  },
  {
   "cell_type": "markdown",
   "metadata": {},
   "source": [
    "---"
   ]
  },
  {
   "cell_type": "markdown",
   "metadata": {},
   "source": [
    "## Question 5"
   ]
  },
  {
   "cell_type": "code",
   "execution_count": 16,
   "metadata": {},
   "outputs": [
    {
     "name": "stdout",
     "output_type": "stream",
     "text": [
      "[38.84749363319875, -77.26750281892856]\n"
     ]
    }
   ],
   "source": [
    "trajectory = []\n",
    "trajectory.append((38.85331685786827, -77.29046729646763))\n",
    "trajectory.append((38.85866393991506, -77.27192786775669))\n",
    "trajectory.append((38.857594555667404, -77.26094153963169))\n",
    "trajectory.append((38.84957366123777, -77.25270179353794))\n",
    "trajectory.append((38.84422589578141, -77.2396555288895))\n",
    "trajectory.append((38.838877728341515, -77.24995521150669))\n",
    "trajectory.append((38.838877728341515, -77.26231483064731))\n",
    "trajectory.append((38.838877728341515, -77.28978065095981))\n",
    "trajectory.append((38.84743460329428, -77.28978065095981))\n",
    "center_mass = [0,0]\n",
    "for i in range(len(trajectory)):\n",
    "    center_mass[0] += trajectory[i][0]\n",
    "    center_mass[1] += trajectory[i][1]\n",
    "center_mass[0] /= len(trajectory)\n",
    "center_mass[1] /= len(trajectory)\n",
    "print(center_mass)"
   ]
  }
 ],
 "metadata": {
  "kernelspec": {
   "display_name": "Python 3",
   "language": "python",
   "name": "python3"
  },
  "language_info": {
   "codemirror_mode": {
    "name": "ipython",
    "version": 3
   },
   "file_extension": ".py",
   "mimetype": "text/x-python",
   "name": "python",
   "nbconvert_exporter": "python",
   "pygments_lexer": "ipython3",
   "version": "3.12.5"
  }
 },
 "nbformat": 4,
 "nbformat_minor": 4
}
