{
 "cells": [
  {
   "cell_type": "markdown",
   "metadata": {},
   "source": [
    "# Homework 3"
   ]
  },
  {
   "cell_type": "markdown",
   "metadata": {},
   "source": [
    "- Student name: Byron Washington\n",
    "- Email: ********\n",
    "- G-number: ********"
   ]
  },
  {
   "cell_type": "markdown",
   "metadata": {},
   "source": [
    "## Imported packages"
   ]
  },
  {
   "cell_type": "code",
   "execution_count": 3,
   "metadata": {},
   "outputs": [],
   "source": [
    "import math"
   ]
  },
  {
   "cell_type": "markdown",
   "metadata": {},
   "source": [
    "## Question 1"
   ]
  },
  {
   "cell_type": "code",
   "execution_count": 4,
   "metadata": {},
   "outputs": [
    {
     "name": "stdout",
     "output_type": "stream",
     "text": [
      "Both points are equally far from the center\n"
     ]
    }
   ],
   "source": [
    "point1_x = 0\n",
    "point1_y = 0\n",
    "point2_x = 0\n",
    "point2_y = 0\n",
    "distance1 = math.sqrt((point1_x**2) + (point1_y**2))\n",
    "distance2 = math.sqrt((point2_x**2) + (point2_y**2))\n",
    "if distance1 > distance2:\n",
    "\tprint(\"Point 1 is farther\")\n",
    "elif distance1 < distance2:\n",
    "\tprint(\"Point 2 is farther\")\n",
    "else:\n",
    "\tprint(\"Both points are equally far from the center\")"
   ]
  },
  {
   "cell_type": "markdown",
   "metadata": {},
   "source": [
    "---"
   ]
  },
  {
   "cell_type": "markdown",
   "metadata": {},
   "source": [
    "## Question 2"
   ]
  },
  {
   "cell_type": "code",
   "execution_count": 5,
   "metadata": {},
   "outputs": [
    {
     "name": "stdout",
     "output_type": "stream",
     "text": [
      "999,999,999\n"
     ]
    }
   ],
   "source": [
    "num = 999999999\n",
    "str_num = str(num)\n",
    "num_length = len(str_num)\n",
    "final_str = \"\"\n",
    "#separating each part\n",
    "for i in range(num_length):\n",
    "    if (i % 3 != 0 or i == 0):\n",
    "        final_str += str_num[num_length - 1 - i] #we go backwards when adding to ensure the correct placement\n",
    "    else:\n",
    "        final_str += \",\" + str_num[num_length - 1- i]\n",
    "final_str = final_str.split(',')\n",
    "# reversing the parts\n",
    "for i in range(len(final_str) - 1, -1, -1):\n",
    "    final_str[i] = final_str[i][::-1]\n",
    "#reversing the list\n",
    "final_str = final_str[::-1]\n",
    "final_str = ','.join(final_str)\n",
    "print(final_str)"
   ]
  },
  {
   "cell_type": "markdown",
   "metadata": {},
   "source": [
    "---"
   ]
  },
  {
   "cell_type": "markdown",
   "metadata": {},
   "source": [
    "## Question 3"
   ]
  },
  {
   "cell_type": "code",
   "execution_count": 6,
   "metadata": {},
   "outputs": [
    {
     "name": "stdout",
     "output_type": "stream",
     "text": [
      "8\n"
     ]
    }
   ],
   "source": [
    "gene = \"CTGTTCTTGCTACAGGCAATCAACGTTGATGTTGTGGTAGACGATTAGGAATCCCCAACGAGTTGGGACGGAGTTTATATATGGGTAGAGCTCCCTCGCATTCCTTTCTAG\"\n",
    "counter = 0\n",
    "for i in range(len(gene)):\n",
    "    if i + 1 != len(gene): #if we aren't on the last element\n",
    "    \tif gene[i] == 'T' and gene[i + 1] == 'G':\n",
    "\t\t\t\t\t\t\tcounter += 1\n",
    "       \n",
    "print(str(counter))"
   ]
  },
  {
   "cell_type": "markdown",
   "metadata": {},
   "source": [
    "---"
   ]
  },
  {
   "cell_type": "markdown",
   "metadata": {},
   "source": [
    "## Question 4"
   ]
  },
  {
   "cell_type": "markdown",
   "metadata": {},
   "source": [
    "### Question 4.a"
   ]
  },
  {
   "cell_type": "code",
   "execution_count": 7,
   "metadata": {},
   "outputs": [
    {
     "name": "stdout",
     "output_type": "stream",
     "text": [
      "i\n"
     ]
    }
   ],
   "source": [
    "new_var = input(\"Enter value:\")\n",
    "print(new_var)"
   ]
  },
  {
   "cell_type": "markdown",
   "metadata": {},
   "source": [
    "### Question 4.b"
   ]
  },
  {
   "cell_type": "code",
   "execution_count": 8,
   "metadata": {},
   "outputs": [
    {
     "name": "stdout",
     "output_type": "stream",
     "text": [
      "“No, this number is NOT divisible by 5 without remainder\n"
     ]
    }
   ],
   "source": [
    "new_int = int(input(\"Enter value:\"))\n",
    "if new_int % 5 == 0:\n",
    "\tprint(\"Yes, this number is divisible by 5 without remainder\")\n",
    "else:\n",
    "    print(\"“No, this number is NOT divisible by 5 without remainder\")"
   ]
  },
  {
   "cell_type": "markdown",
   "metadata": {},
   "source": [
    "---"
   ]
  },
  {
   "cell_type": "markdown",
   "metadata": {},
   "source": [
    "## Question 5"
   ]
  },
  {
   "cell_type": "code",
   "execution_count": 9,
   "metadata": {},
   "outputs": [
    {
     "name": "stdout",
     "output_type": "stream",
     "text": [
      "63\n"
     ]
    }
   ],
   "source": [
    "num1 = int(input(\"Enter the first integer number:\"))\n",
    "num2 = int(input(\"Enter the second integer number:\"))\n",
    "operation = input(\"Enter one of the following operations - + / *:\")\n",
    "if operation == '+':\n",
    "    print(str(num1 + num2))\n",
    "elif operation == '-':\n",
    "\tprint(str(num1 - num2))\n",
    "elif operation == '/':\n",
    "    print(str(num1 / num2))\n",
    "elif operation == '*':\n",
    "    print(str(num1 * num2))\n",
    "else:\n",
    "\tprint(\"Invalid Operation\")"
   ]
  },
  {
   "cell_type": "markdown",
   "metadata": {},
   "source": [
    "---"
   ]
  },
  {
   "cell_type": "markdown",
   "metadata": {},
   "source": [
    "## Question 6"
   ]
  },
  {
   "cell_type": "code",
   "execution_count": 10,
   "metadata": {},
   "outputs": [
    {
     "name": "stdout",
     "output_type": "stream",
     "text": [
      "No, two strings do NOT have the same number of characters\n"
     ]
    }
   ],
   "source": [
    "str1 = input(\"Enter the first string:\")\n",
    "str2 = input(\"Enter the second string:\")\n",
    "if len(str1) == len(str2):\n",
    "    print(\"Yes, two strings have the same number of characters\")\n",
    "else:\n",
    "\tprint(\"No, two strings do NOT have the same number of characters\")"
   ]
  },
  {
   "cell_type": "markdown",
   "metadata": {},
   "source": [
    "---"
   ]
  },
  {
   "cell_type": "markdown",
   "metadata": {},
   "source": [
    "## Question 7"
   ]
  },
  {
   "cell_type": "code",
   "execution_count": 11,
   "metadata": {},
   "outputs": [
    {
     "name": "stdout",
     "output_type": "stream",
     "text": [
      "name\n"
     ]
    }
   ],
   "source": [
    "email = \"name@gmail.edu\"\n",
    "name = \"\"\n",
    "for i in range(len(email)):\n",
    "\t\t\t\tif email[i] != '@':\n",
    "\t\t\t\t\tname += email[i]\n",
    "\t\t\t\telse:\n",
    "\t\t\t\t\tbreak\n",
    "print(name)"
   ]
  }
 ],
 "metadata": {
  "kernelspec": {
   "display_name": "Python 3",
   "language": "python",
   "name": "python3"
  },
  "language_info": {
   "codemirror_mode": {
    "name": "ipython",
    "version": 3
   },
   "file_extension": ".py",
   "mimetype": "text/x-python",
   "name": "python",
   "nbconvert_exporter": "python",
   "pygments_lexer": "ipython3",
   "version": "3.12.5"
  }
 },
 "nbformat": 4,
 "nbformat_minor": 4
}
