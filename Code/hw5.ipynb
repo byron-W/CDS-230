{
 "cells": [
  {
   "cell_type": "markdown",
   "metadata": {},
   "source": [
    "# Homework 5"
   ]
  },
  {
   "cell_type": "markdown",
   "metadata": {},
   "source": [
    "- Student name: Byron Washington\n",
    "- Email: ********\n",
    "- G-number: ********"
   ]
  },
  {
   "cell_type": "markdown",
   "metadata": {},
   "source": [
    "## Imported packages"
   ]
  },
  {
   "cell_type": "code",
   "execution_count": 29,
   "metadata": {},
   "outputs": [],
   "source": [
    "import math\n",
    "import random\n",
    "import numpy as np"
   ]
  },
  {
   "cell_type": "markdown",
   "metadata": {},
   "source": [
    "## Question 1"
   ]
  },
  {
   "cell_type": "code",
   "execution_count": 30,
   "metadata": {},
   "outputs": [
    {
     "name": "stdout",
     "output_type": "stream",
     "text": [
      "1.0910894511799618\n"
     ]
    }
   ],
   "source": [
    "def rel (t, v, c):\n",
    "\tunder_root = 1 - ((v**2)/(c**2))\n",
    "\tfinal = t * (1 / math.sqrt(under_root))\n",
    "\treturn final\n",
    "ans = rel(1,2,5)\n",
    "print(str(ans))    "
   ]
  },
  {
   "cell_type": "markdown",
   "metadata": {},
   "source": [
    "---"
   ]
  },
  {
   "cell_type": "markdown",
   "metadata": {},
   "source": [
    "## Question 2"
   ]
  },
  {
   "cell_type": "code",
   "execution_count": 31,
   "metadata": {},
   "outputs": [
    {
     "name": "stdout",
     "output_type": "stream",
     "text": [
      "The average of 1000 random numbers between -10 and 10 is -0.01\n"
     ]
    }
   ],
   "source": [
    "myList = []\n",
    "for i in range(1000):\n",
    "    myList.append(random.randint(-10, 10))\n",
    "final = sum(myList) / len(myList)\n",
    "print(\"The average of 1000 random numbers between -10 and 10 is \" + str(final))"
   ]
  },
  {
   "cell_type": "markdown",
   "metadata": {},
   "source": [
    "This makes sense because the average of -10 and 10 is 0 so any amount of numbers set between those bounds should average out to 0"
   ]
  },
  {
   "cell_type": "markdown",
   "metadata": {},
   "source": [
    "---"
   ]
  },
  {
   "cell_type": "markdown",
   "metadata": {},
   "source": [
    "## Question 3"
   ]
  },
  {
   "cell_type": "code",
   "execution_count": 32,
   "metadata": {},
   "outputs": [
    {
     "name": "stdout",
     "output_type": "stream",
     "text": [
      "Number 1 appears 3 times\n",
      "Number 3 appears 2 times\n",
      "Number 4 appears 1 times\n",
      "Number 5 appears 1 times\n",
      "Number 6 appears 1 times\n",
      "Number 7 appears 6 times\n",
      "Number 9 appears 5 times\n",
      "Number 11 appears 8 times\n",
      "Number 16 appears 1 times\n",
      "Number 18 appears 1 times\n",
      "Number 19 appears 1 times\n",
      "Number 21 appears 1 times\n",
      "Number 24 appears 1 times\n",
      "Number 29 appears 1 times\n",
      "Number 30 appears 1 times\n",
      "Number 33 appears 3 times\n",
      "Number 35 appears 2 times\n",
      "Number 38 appears 1 times\n",
      "Number 40 appears 1 times\n",
      "Number 41 appears 1 times\n"
     ]
    }
   ],
   "source": [
    "numbers = [41, 33, 11, 9, 7, 11, 21, 19, 7, 11, 6, 9, 30, 24, 1, 5, 7, 4, 35, 3, 35, 1, 18, 38, 11, 9, 11, 7, 9, 33, 11, 3, 40, 16, 11, 1, 33, 7, 29, 9, 7, 11]\n",
    "answer = {} # using dictionary seems easier for me since i can keep a key value for each time it's seen\n",
    "for i in numbers:\n",
    "    if i not in answer:\n",
    "        answer.update({i : 1})\n",
    "    else:\n",
    "        current_amount = answer[i]\n",
    "        answer.update({i : current_amount + 1})\n",
    "for x in sorted(answer):\n",
    "    print(\"Number \" + str(x) + \" appears \" + str(answer[x]) + \" times\")"
   ]
  },
  {
   "cell_type": "markdown",
   "metadata": {},
   "source": [
    "---"
   ]
  },
  {
   "cell_type": "markdown",
   "metadata": {},
   "source": [
    "## Question 4"
   ]
  },
  {
   "cell_type": "code",
   "execution_count": 33,
   "metadata": {},
   "outputs": [
    {
     "name": "stdout",
     "output_type": "stream",
     "text": [
      "[2, -1, 10, 5]\n",
      "Minimum: -1, Maximum: 10, Average: 4\n",
      "\n",
      "[10, 8, 6, 4, 2, 0, -2, -4, -6, -8, -10]\n",
      "Minimum: -10, Maximum: 10, Average: 0\n",
      "\n",
      "[4]\n",
      "Minimum: 4, Maximum: 4, Average: 4\n",
      "\n",
      "[1, 1, 2, 3, 5, 8, 13]\n",
      "Minimum: 1, Maximum: 13, Average: 4\n",
      "\n"
     ]
    }
   ],
   "source": [
    "test_lists = [\n",
    "    [2, -1, 10, 5],\n",
    "    [10, 8, 6, 4, 2, 0, -2, -4, -6, -8, -10],\n",
    "    [4],\n",
    "    [1, 1, 2, 3, 5, 8, 13]\n",
    "]\n",
    "def list_stats(lists):\n",
    "    minimum = min(lists)\n",
    "    maximum = max(lists)\n",
    "    average = int(sum(lists) / len(lists))\n",
    "    return minimum, maximum, average\n",
    "\n",
    "for i in test_lists:\n",
    "    lowest, highest, mean = list_stats(i)\n",
    "    print(i)\n",
    "    print(\"Minimum: \" + str(lowest) + \", Maximum: \" + str(highest) + \", Average: \" + str(mean) + \"\\n\")"
   ]
  },
  {
   "cell_type": "markdown",
   "metadata": {},
   "source": [
    "---"
   ]
  },
  {
   "cell_type": "markdown",
   "metadata": {},
   "source": [
    "## Question 5"
   ]
  },
  {
   "cell_type": "code",
   "execution_count": 34,
   "metadata": {},
   "outputs": [
    {
     "name": "stdout",
     "output_type": "stream",
     "text": [
      "[29  4 52  4 64 33 43 25  0 69]\n",
      "[44 75 45 42 10 41 59 18  8  4]\n",
      "(array([29, 33, 43, 25, 69, 75, 45, 41, 59], dtype=int32), array([ 4, 52,  4, 64,  0, 44, 42, 10, 18,  8,  4], dtype=int32))\n"
     ]
    }
   ],
   "source": [
    "arr1 = np.random.randint(0, 100, 10)\n",
    "print(arr1)\n",
    "\n",
    "arr2 = np.random.randint(0, 100, 10)\n",
    "print(arr2)\n",
    "\n",
    "def separate(array1, array2):\n",
    "    all_elements = np.concatenate((array1, array2))\n",
    "    oddArr = all_elements[all_elements % 2 != 0]\n",
    "    evenArr = all_elements[all_elements % 2 == 0]\n",
    "    return oddArr, evenArr\n",
    "\n",
    "print(separate(arr1, arr2))"
   ]
  }
 ],
 "metadata": {
  "kernelspec": {
   "display_name": "Python 3",
   "language": "python",
   "name": "python3"
  },
  "language_info": {
   "codemirror_mode": {
    "name": "ipython",
    "version": 3
   },
   "file_extension": ".py",
   "mimetype": "text/x-python",
   "name": "python",
   "nbconvert_exporter": "python",
   "pygments_lexer": "ipython3",
   "version": "3.12.5"
  }
 },
 "nbformat": 4,
 "nbformat_minor": 4
}
