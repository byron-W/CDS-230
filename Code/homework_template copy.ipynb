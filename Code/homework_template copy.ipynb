{
 "cells": [
  {
   "cell_type": "markdown",
   "metadata": {},
   "source": [
    "---\n",
    "\n",
    "This cell is added to provide some explanation for this template. You will delete it when you submit your answers. \n",
    "- Follow the naming convention instructed in the syllabus.\n",
    "- Assume that question X has two sub-questions. The first one (a) requires textual answers, while the second one (b) is a coding problem. You will see below how you handle each type.\n",
    "- Add a markdown cell containing a horizontal line ```---``` after each question.\n",
    "- Before submitting your answers, make sure to click on **Kernel** => **Restart Kernel and Run All Cells** menu item and to check the code is error-free.\n",
    "- Only submit 1 notebook file for the entire homework unless there is a different instruction in the assignment. \n",
    "- If you prefer not to use notebooks, you are welcome to submit a .py file as instructed in the syllabus.\n",
    "\n",
    "---"
   ]
  },
  {
   "cell_type": "markdown",
   "metadata": {},
   "source": [
    "# Homework (Replace Homework Number Here)"
   ]
  },
  {
   "cell_type": "markdown",
   "metadata": {},
   "source": [
    "- Student name: ....\n",
    "- Email: ...\n",
    "- G-number: ..."
   ]
  },
  {
   "cell_type": "markdown",
   "metadata": {},
   "source": [
    "## Imported packages"
   ]
  },
  {
   "cell_type": "code",
   "execution_count": 1,
   "metadata": {},
   "outputs": [],
   "source": [
    "# all import statements come here like import math"
   ]
  },
  {
   "cell_type": "markdown",
   "metadata": {},
   "source": [
    "## Question X"
   ]
  },
  {
   "cell_type": "markdown",
   "metadata": {},
   "source": [
    "### Question X.a"
   ]
  },
  {
   "cell_type": "markdown",
   "metadata": {},
   "source": [
    "Textual answer should be provided in a markdown cell."
   ]
  },
  {
   "cell_type": "markdown",
   "metadata": {},
   "source": [
    "### Question X.b"
   ]
  },
  {
   "cell_type": "code",
   "execution_count": 3,
   "metadata": {},
   "outputs": [
    {
     "name": "stdout",
     "output_type": "stream",
     "text": [
      "Answer to question X.b is  100\n"
     ]
    }
   ],
   "source": [
    "# Code answers should be provided in a Code cell\n",
    "# Add descriptive comments to avoid confusion\n",
    "# ...\n",
    "question_x_b = 100\n",
    "print(\"Answer to question X.b is \",question_x_b)"
   ]
  },
  {
   "cell_type": "markdown",
   "metadata": {},
   "source": [
    "---"
   ]
  },
  {
   "cell_type": "markdown",
   "metadata": {},
   "source": [
    "## Question Y"
   ]
  },
  {
   "cell_type": "code",
   "execution_count": null,
   "metadata": {},
   "outputs": [],
   "source": [
    "# ..."
   ]
  }
 ],
 "metadata": {
  "kernelspec": {
   "display_name": "Python 3 (ipykernel)",
   "language": "python",
   "name": "python3"
  },
  "language_info": {
   "codemirror_mode": {
    "name": "ipython",
    "version": 3
   },
   "file_extension": ".py",
   "mimetype": "text/x-python",
   "name": "python",
   "nbconvert_exporter": "python",
   "pygments_lexer": "ipython3",
   "version": "3.9.12"
  }
 },
 "nbformat": 4,
 "nbformat_minor": 4
}
